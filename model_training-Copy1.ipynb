{
 "cells": [
  {
   "cell_type": "code",
   "execution_count": 1,
   "metadata": {},
   "outputs": [
    {
     "name": "stdout",
     "output_type": "stream",
     "text": [
      "Requirement already satisfied: keras in ./venv/lib/python3.10/site-packages (2.11.0)\r\n"
     ]
    }
   ],
   "source": [
    "!pip install keras"
   ]
  },
  {
   "cell_type": "code",
   "execution_count": 1,
   "metadata": {
    "id": "O5axSrCuN-Jn"
   },
   "outputs": [],
   "source": [
    "import numpy as np\n",
    "import os\n",
    "from sklearn.model_selection import train_test_split\n",
    "from sklearn.model_selection import StratifiedKFold\n",
    "from sklearn.model_selection import cross_val_score\n",
    "from sklearn.svm import SVC\n",
    "from sklearn.linear_model import LogisticRegression\n",
    "from sklearn import tree\n",
    "from sklearn.pipeline import Pipeline\n",
    "from sklearn.ensemble import GradientBoostingClassifier, RandomForestClassifier\n",
    "from sklearn.preprocessing import PolynomialFeatures, LabelEncoder\n",
    "from sklearn.neural_network import MLPClassifier\n",
    "from sklearn.metrics import f1_score\n",
    "import pandas as pd\n",
    "from tqdm import tqdm\n",
    "import lightgbm as ltb\n",
    "from imblearn.over_sampling import RandomOverSampler, SMOTE\n",
    "import pickle\n",
    "import joblib"
   ]
  },
  {
   "cell_type": "code",
   "execution_count": 2,
   "metadata": {},
   "outputs": [
    {
     "name": "stderr",
     "output_type": "stream",
     "text": [
      "2022-12-21 14:16:23.556768: I tensorflow/core/platform/cpu_feature_guard.cc:193] This TensorFlow binary is optimized with oneAPI Deep Neural Network Library (oneDNN) to use the following CPU instructions in performance-critical operations:  AVX2 FMA\n",
      "To enable them in other operations, rebuild TensorFlow with the appropriate compiler flags.\n",
      "2022-12-21 14:16:23.838109: W tensorflow/compiler/xla/stream_executor/platform/default/dso_loader.cc:64] Could not load dynamic library 'libcudart.so.11.0'; dlerror: libcudart.so.11.0: cannot open shared object file: No such file or directory\n",
      "2022-12-21 14:16:23.838129: I tensorflow/compiler/xla/stream_executor/cuda/cudart_stub.cc:29] Ignore above cudart dlerror if you do not have a GPU set up on your machine.\n",
      "2022-12-21 14:16:24.706474: W tensorflow/compiler/xla/stream_executor/platform/default/dso_loader.cc:64] Could not load dynamic library 'libnvinfer.so.7'; dlerror: libnvinfer.so.7: cannot open shared object file: No such file or directory\n",
      "2022-12-21 14:16:24.706532: W tensorflow/compiler/xla/stream_executor/platform/default/dso_loader.cc:64] Could not load dynamic library 'libnvinfer_plugin.so.7'; dlerror: libnvinfer_plugin.so.7: cannot open shared object file: No such file or directory\n",
      "2022-12-21 14:16:24.706538: W tensorflow/compiler/tf2tensorrt/utils/py_utils.cc:38] TF-TRT Warning: Cannot dlopen some TensorRT libraries. If you would like to use Nvidia GPU with TensorRT, please make sure the missing libraries mentioned above are installed properly.\n"
     ]
    }
   ],
   "source": [
    "from keras.models import Sequential\n",
    "from keras.layers import Dense\n",
    "from keras.applications import ResNet50\n",
    "from keras.applications.resnet import preprocess_input"
   ]
  },
  {
   "cell_type": "code",
   "execution_count": null,
   "metadata": {
    "colab": {
     "base_uri": "https://localhost:8080/"
    },
    "id": "n-0uWDVcSzH6",
    "outputId": "2674c406-8ac3-4226-d74a-f504f457ac8a"
   },
   "outputs": [
    {
     "name": "stdout",
     "output_type": "stream",
     "text": [
      "Mounted at /content/drive\n"
     ]
    }
   ],
   "source": [
    "from google.colab import drive\n",
    "drive.mount('/content/drive')"
   ]
  },
  {
   "cell_type": "code",
   "execution_count": 14,
   "metadata": {
    "id": "8jwx73EXPrdS"
   },
   "outputs": [],
   "source": [
    "directory = 'all_data/train/'\n",
    "directory2 = 'all_data/train2/'\n",
    "directorytf = 'all_data/train'\n",
    "directorytf_aug = 'all_data/augment'\n",
    "directory_test = 'all_data/test/'\n",
    "pic_x = []\n",
    "pic_xname = []"
   ]
  },
  {
   "cell_type": "code",
   "execution_count": 4,
   "metadata": {
    "id": "EJJflZXtQMNF"
   },
   "outputs": [],
   "source": [
    "pic_xs = {}\n",
    "pic_xhsv = {}\n",
    "pic_xs_test = {}"
   ]
  },
  {
   "cell_type": "code",
   "execution_count": 17,
   "metadata": {
    "id": "D_JobP-rQSOi"
   },
   "outputs": [],
   "source": [
    "from matplotlib import image, pyplot\n",
    "import cv2 as cv\n",
    "import sys"
   ]
  },
  {
   "cell_type": "code",
   "execution_count": 18,
   "metadata": {
    "id": "mxaGr8QVQXIK"
   },
   "outputs": [],
   "source": [
    "def append_value(dict_obj, key, value):\n",
    "    # Check if key exist in dict or not\n",
    "    if key in dict_obj:\n",
    "        # Key exist in dict.\n",
    "        # Check if type of value of key is list or not\n",
    "        if not isinstance(dict_obj[key], list):\n",
    "            # If type is not list then make it list\n",
    "            dict_obj[key] = [dict_obj[key]]\n",
    "        # Append the value in list\n",
    "        dict_obj[key].append(value)\n",
    "    else:\n",
    "        # As key is not in dict,\n",
    "        # so, add key-value pair\n",
    "        dict_obj[key] = value"
   ]
  },
  {
   "cell_type": "code",
   "execution_count": null,
   "metadata": {
    "id": "Z3J_BYdeyn9h"
   },
   "outputs": [],
   "source": [
    "# masks of lab format   a - red & green,  b- yellow and blue\n",
    "for filedir in os.listdir(directory):\n",
    "    f = os.path.join(directory, filedir)\n",
    "    for filename in os.listdir(f):\n",
    "        #print(directory+filedir+'/'+filename)\n",
    "        pic = cv.imread(directory+filedir+'/'+filename)  # mb dir with linux command\n",
    "        pic1 = cv.resize(pic, (100,100))\n",
    "        pic2 = cv.cvtColor(pic1, cv.COLOR_BGR2LAB)\n",
    "        a_channel = pic2[:,:,1]\n",
    "        th = cv.threshold(a_channel,125,255,cv.THRESH_BINARY_INV+cv.THRESH_OTSU)[1]\n",
    "        append_value(pic_xs, filedir, th)\n",
    "        #pic_y.append(filedir) # maybe hstack or vstack"
   ]
  },
  {
   "cell_type": "code",
   "execution_count": 14,
   "metadata": {
    "id": "ynhXatLKJdy5"
   },
   "outputs": [
    {
     "ename": "error",
     "evalue": "OpenCV(4.6.0) /io/opencv/modules/imgproc/src/resize.cpp:4052: error: (-215:Assertion failed) !ssize.empty() in function 'resize'\n",
     "output_type": "error",
     "traceback": [
      "\u001b[0;31m---------------------------------------------------------------------------\u001b[0m",
      "\u001b[0;31merror\u001b[0m                                     Traceback (most recent call last)",
      "Cell \u001b[0;32mIn [14], line 7\u001b[0m\n\u001b[1;32m      4\u001b[0m \u001b[38;5;28;01mfor\u001b[39;00m filename \u001b[38;5;129;01min\u001b[39;00m os\u001b[38;5;241m.\u001b[39mlistdir(f):\n\u001b[1;32m      5\u001b[0m     \u001b[38;5;66;03m#print(directory+filedir+'/'+filename)\u001b[39;00m\n\u001b[1;32m      6\u001b[0m     pic \u001b[38;5;241m=\u001b[39m cv\u001b[38;5;241m.\u001b[39mimread(directory\u001b[38;5;241m+\u001b[39mfiledir\u001b[38;5;241m+\u001b[39m\u001b[38;5;124m'\u001b[39m\u001b[38;5;124m/\u001b[39m\u001b[38;5;124m'\u001b[39m\u001b[38;5;241m+\u001b[39mfilename)  \u001b[38;5;66;03m# mb dir with linux command\u001b[39;00m\n\u001b[0;32m----> 7\u001b[0m     pic1 \u001b[38;5;241m=\u001b[39m \u001b[43mcv\u001b[49m\u001b[38;5;241;43m.\u001b[39;49m\u001b[43mresize\u001b[49m\u001b[43m(\u001b[49m\u001b[43mpic\u001b[49m\u001b[43m,\u001b[49m\u001b[43m \u001b[49m\u001b[43m(\u001b[49m\u001b[38;5;241;43m100\u001b[39;49m\u001b[43m,\u001b[49m\u001b[38;5;241;43m100\u001b[39;49m\u001b[43m)\u001b[49m\u001b[43m)\u001b[49m\n\u001b[1;32m      8\u001b[0m     pic2 \u001b[38;5;241m=\u001b[39m cv\u001b[38;5;241m.\u001b[39mcvtColor(pic1, cv\u001b[38;5;241m.\u001b[39mCOLOR_BGR2LAB)\n\u001b[1;32m      9\u001b[0m     a_channel \u001b[38;5;241m=\u001b[39m pic2[:,:,\u001b[38;5;241m1\u001b[39m]\n",
      "\u001b[0;31merror\u001b[0m: OpenCV(4.6.0) /io/opencv/modules/imgproc/src/resize.cpp:4052: error: (-215:Assertion failed) !ssize.empty() in function 'resize'\n"
     ]
    }
   ],
   "source": [
    "# no-back of lab format   a - red & green,  b- yellow and blue\n",
    "for filedir in os.listdir(directory):\n",
    "    f = os.path.join(directory, filedir)\n",
    "    for filename in os.listdir(f):\n",
    "        #print(directory+filedir+'/'+filename)\n",
    "        pic = cv.imread(directory+filedir+'/'+filename)  # mb dir with linux command\n",
    "        pic1 = cv.resize(pic, (100,100))\n",
    "        pic2 = cv.cvtColor(pic1, cv.COLOR_BGR2LAB)\n",
    "        a_channel = pic2[:,:,1]\n",
    "        th = cv.threshold(a_channel,125,255,cv.THRESH_BINARY_INV+cv.THRESH_OTSU)[1]\n",
    "        masked = cv.bitwise_and(pic2,  pic2, mask = th)\n",
    "        append_value(pic_xhsv, filedir, masked)\n",
    "        #pic_y.append(filedir) # maybe hstack or vstack"
   ]
  },
  {
   "cell_type": "code",
   "execution_count": 7,
   "metadata": {},
   "outputs": [],
   "source": [
    "def get_img_data(directory, dct, size=(100,100), dir_type=''):\n",
    "    for filedir in os.listdir(directory):\n",
    "        f = os.path.join(directory, filedir)\n",
    "        for filename in os.listdir(f+'/'+dir_type):\n",
    "            #print(directory+filedir+'/'+filename)\n",
    "            if dir_type=='':\n",
    "                pic = cv.imread(directory+filedir+'/'+filename)\n",
    "            else:\n",
    "                pic = cv.imread(directory+filedir+'/'+dir_type+'/'+filename)  # mb dir with linux command\n",
    "            pic1 = cv.resize(pic, (100,100))\n",
    "            pic2 = cv.cvtColor(pic1, cv.COLOR_BGR2LAB)\n",
    "            a_channel = pic2[:,:,1]\n",
    "            th = cv.threshold(a_channel,125,255,cv.THRESH_BINARY_INV+cv.THRESH_OTSU)[1]\n",
    "            masked = cv.bitwise_and(pic2,  pic2, mask = th)\n",
    "            append_value(dct, filedir, masked)\n",
    "            #pic_y.append(filedir) # maybe hstack or vstack"
   ]
  },
  {
   "cell_type": "code",
   "execution_count": 7,
   "metadata": {
    "scrolled": true
   },
   "outputs": [],
   "source": [
    "# no-back of RGB format   a - red & green,  b- yellow and blue #augmented\n",
    "for filedir in os.listdir(directory):\n",
    "    f = os.path.join(directory, filedir)\n",
    "    for filename in os.listdir(f+'/aug'):\n",
    "        #print(directory+filedir+'/'+filename)\n",
    "        pic = cv.imread(directory+filedir+'/'+'aug/'+filename)  # mb dir with linux command\n",
    "        pic1 = cv.resize(pic, (100,100))\n",
    "        pic2 = cv.cvtColor(pic1, cv.COLOR_BGR2LAB)\n",
    "        a_channel = pic2[:,:,1]\n",
    "        th = cv.threshold(a_channel,125,255,cv.THRESH_BINARY_INV+cv.THRESH_OTSU)[1]\n",
    "        masked_hsv = cv.bitwise_and(pic2,  pic2, mask = th)\n",
    "        masked = cv.cvtColor(masked_hsv, cv.COLOR_HSV2RGB)\n",
    "        append_value(pic_xs, filedir, masked)\n",
    "        #pic_y.append(filedir) # maybe hstack or vstack"
   ]
  },
  {
   "cell_type": "code",
   "execution_count": null,
   "metadata": {},
   "outputs": [],
   "source": [
    "# no-back of RGB format   a - red & green,  b- yellow and blue #augmented fixed\n",
    "for filedir in os.listdir(directory):\n",
    "    f = os.path.join(directory, filedir)\n",
    "    for filename in os.listdir(f+'/aug'):\n",
    "        #print(directory+filedir+'/'+filename)\n",
    "        pic = cv.imread(directory+filedir+'/'+'aug/'+filename)  # mb dir with linux command\n",
    "        pic1 = cv.resize(pic, (100,100))\n",
    "        pic2 = cv.cvtColor(pic1, cv.COLOR_BGR2RGB)\n",
    "        #a_channel = pic2[:,:,1]\n",
    "        #th = cv.threshold(a_channel,125,255,cv.THRESH_BINARY_INV+cv.THRESH_OTSU)[1]\n",
    "        #masked_hsv = cv.bitwise_and(pic2,  pic2, mask = th)\n",
    "        #masked = cv.cvtColor(masked_hsv, cv.COLOR_HSV2RGB)\n",
    "        append_value(pic_xs, filedir, pic2)\n",
    "        #pic_y.append(filedir) # maybe hstack or vstack"
   ]
  },
  {
   "cell_type": "code",
   "execution_count": 8,
   "metadata": {
    "scrolled": true
   },
   "outputs": [],
   "source": [
    "get_img_data(directory, pic_xs, dir_type='aug')"
   ]
  },
  {
   "cell_type": "code",
   "execution_count": 20,
   "metadata": {},
   "outputs": [
    {
     "data": {
      "text/plain": [
       "700"
      ]
     },
     "execution_count": 20,
     "metadata": {},
     "output_type": "execute_result"
    }
   ],
   "source": [
    "len(pic_xs['Charlock'])"
   ]
  },
  {
   "cell_type": "code",
   "execution_count": 8,
   "metadata": {
    "id": "MvqtDaVyTFMF"
   },
   "outputs": [],
   "source": [
    "grasses = [i for i in pic_xs.keys()]"
   ]
  },
  {
   "cell_type": "code",
   "execution_count": 9,
   "metadata": {
    "colab": {
     "base_uri": "https://localhost:8080/"
    },
    "id": "DfAMF3gSu0a2",
    "outputId": "f2ecc3fa-dc6b-4cb6-9c47-584230e7a31a"
   },
   "outputs": [
    {
     "data": {
      "text/plain": [
       "['Loose Silky-bent',\n",
       " 'Charlock',\n",
       " 'Small-flowered Cranesbill',\n",
       " 'Cleavers',\n",
       " 'Sugar beet',\n",
       " 'Maize',\n",
       " 'Common wheat',\n",
       " 'Black-grass',\n",
       " 'Shepherds Purse',\n",
       " 'Fat Hen',\n",
       " 'Scentless Mayweed',\n",
       " 'Common Chickweed']"
      ]
     },
     "execution_count": 9,
     "metadata": {},
     "output_type": "execute_result"
    }
   ],
   "source": [
    "grasses"
   ]
  },
  {
   "cell_type": "code",
   "execution_count": 10,
   "metadata": {
    "id": "9LVKea7cvL5s"
   },
   "outputs": [],
   "source": [
    "data_lst = []\n",
    "for i in grasses:\n",
    "  for j in (pic_xs[i]):\n",
    "    data_lst.append(i)"
   ]
  },
  {
   "cell_type": "code",
   "execution_count": 11,
   "metadata": {
    "id": "Po5MdybYesx3"
   },
   "outputs": [],
   "source": [
    "x_lst = []\n",
    "for i in grasses:\n",
    "  for j in (pic_xs[i]):\n",
    "    #for k in j:\n",
    "    x_lst.append(j)"
   ]
  },
  {
   "cell_type": "code",
   "execution_count": 26,
   "metadata": {
    "id": "yQOAECE4fXoA"
   },
   "outputs": [],
   "source": [
    "X_raw = np.reshape(np.array(x_lst)/255, (8400, 100*100*3))"
   ]
  },
  {
   "cell_type": "code",
   "execution_count": 12,
   "metadata": {},
   "outputs": [],
   "source": [
    "X = np.array(x_lst)\n",
    "X = preprocess_input(X)"
   ]
  },
  {
   "cell_type": "code",
   "execution_count": 13,
   "metadata": {
    "colab": {
     "base_uri": "https://localhost:8080/"
    },
    "id": "XmrsRatUgWLS",
    "outputId": "8c69a25c-0fae-441e-af63-d2e56044b853"
   },
   "outputs": [
    {
     "data": {
      "text/plain": [
       "(8400, 100, 100, 3)"
      ]
     },
     "execution_count": 13,
     "metadata": {},
     "output_type": "execute_result"
    }
   ],
   "source": [
    "X.shape"
   ]
  },
  {
   "cell_type": "code",
   "execution_count": 14,
   "metadata": {
    "id": "YqHwTY4kxiSz"
   },
   "outputs": [],
   "source": [
    "df = pd.DataFrame(data_lst, columns=['Y'])"
   ]
  },
  {
   "cell_type": "code",
   "execution_count": 15,
   "metadata": {
    "id": "n_-FFjgi5CBF"
   },
   "outputs": [],
   "source": [
    "le = LabelEncoder().fit(df.Y)\n",
    "df['Yl'] = le.transform(df.Y)"
   ]
  },
  {
   "cell_type": "code",
   "execution_count": 16,
   "metadata": {
    "colab": {
     "base_uri": "https://localhost:8080/"
    },
    "id": "Dux1UH6k6Vx3",
    "outputId": "232a6f4b-e786-4c2d-e1f4-df5626ac673a"
   },
   "outputs": [
    {
     "data": {
      "text/plain": [
       "array([ 6,  1, 10,  2, 11,  7,  4,  0,  9,  5,  8,  3])"
      ]
     },
     "execution_count": 16,
     "metadata": {},
     "output_type": "execute_result"
    }
   ],
   "source": [
    "df['Yl'].unique()"
   ]
  },
  {
   "cell_type": "code",
   "execution_count": 17,
   "metadata": {
    "id": "AJopVhh3xtHJ"
   },
   "outputs": [],
   "source": [
    "arr = df.Yl.to_numpy()"
   ]
  },
  {
   "cell_type": "code",
   "execution_count": 18,
   "metadata": {
    "id": "5vNYR7LaXbFb"
   },
   "outputs": [],
   "source": [
    "Y = np.reshape(arr, (-1,))"
   ]
  },
  {
   "cell_type": "code",
   "execution_count": 7,
   "metadata": {
    "id": "mijzH2k1x8av"
   },
   "outputs": [],
   "source": [
    "seed = 0"
   ]
  },
  {
   "cell_type": "markdown",
   "metadata": {},
   "source": [
    "# Dimentionality reduction"
   ]
  },
  {
   "cell_type": "code",
   "execution_count": 24,
   "metadata": {
    "id": "Yd_c-tSoz6Qj"
   },
   "outputs": [],
   "source": [
    "from sklearn.decomposition import PCA"
   ]
  },
  {
   "cell_type": "code",
   "execution_count": null,
   "metadata": {
    "colab": {
     "base_uri": "https://localhost:8080/"
    },
    "id": "sjfARJ080HBL",
    "outputId": "787a58b9-fde8-4efc-d1f2-3dc2a30bd4c5"
   },
   "outputs": [
    {
     "data": {
      "text/plain": [
       "PCA(svd_solver='arpack')"
      ]
     },
     "execution_count": 20,
     "metadata": {},
     "output_type": "execute_result"
    }
   ],
   "source": [
    "pca = PCA(svd_solver = 'arpack')\n",
    "pca.fit(X)"
   ]
  },
  {
   "cell_type": "code",
   "execution_count": null,
   "metadata": {
    "colab": {
     "background_save": true
    },
    "id": "s4fHqoenUUd8"
   },
   "outputs": [],
   "source": [
    "pipe = Pipeline([('pca', PCA(svd_solver = 'arpack')), \n",
    "                  ('ltb', SVC(random_state=seed, C=100, kernel='rbf', degree=1))])\n",
    "scores = cross_val_score(pipe, X_tf, Y, scoring='f1_micro', cv=4)"
   ]
  },
  {
   "cell_type": "code",
   "execution_count": null,
   "metadata": {},
   "outputs": [],
   "source": [
    "pipe = Pipeline([('pca', PCA(svd_solver = 'arpack')), \n",
    "                  ('svc', ltb.LGBMClassifier(random_state=seed, max_depth=10, objective='multiclass', min_child_samples=2,\n",
    "                              learning_rate=0.1, n_estimators=20, n_jobs=-1, class_weight='balanced'))])\n",
    "scores = cross_val_score(pipe, X, Y, scoring='f1_micro', cv=4)"
   ]
  },
  {
   "cell_type": "code",
   "execution_count": null,
   "metadata": {},
   "outputs": [],
   "source": [
    "scores, np.mean(scores)"
   ]
  },
  {
   "cell_type": "code",
   "execution_count": null,
   "metadata": {
    "id": "8f2eV61AuJmT"
   },
   "outputs": [],
   "source": [
    "X_new = pca.transform(X)"
   ]
  },
  {
   "cell_type": "markdown",
   "metadata": {},
   "source": [
    "# Balancing data"
   ]
  },
  {
   "cell_type": "code",
   "execution_count": 5,
   "metadata": {},
   "outputs": [
    {
     "name": "stdout",
     "output_type": "stream",
     "text": [
      "Collecting tensorflow\n",
      "  Downloading tensorflow-2.11.0-cp310-cp310-manylinux_2_17_x86_64.manylinux2014_x86_64.whl (588.3 MB)\n",
      "\u001b[2K     \u001b[90m━━━━━━━━━━━━━━━━━━━━━━━━━━━━━━━━━━━━━━━\u001b[0m \u001b[32m588.3/588.3 MB\u001b[0m \u001b[31m4.3 MB/s\u001b[0m eta \u001b[36m0:00:00\u001b[0m00:01\u001b[0m00:02\u001b[0m\n",
      "\u001b[?25hCollecting absl-py>=1.0.0\n",
      "  Downloading absl_py-1.3.0-py3-none-any.whl (124 kB)\n",
      "\u001b[2K     \u001b[90m━━━━━━━━━━━━━━━━━━━━━━━━━━━━━━━━━━━━━━\u001b[0m \u001b[32m124.6/124.6 kB\u001b[0m \u001b[31m11.3 MB/s\u001b[0m eta \u001b[36m0:00:00\u001b[0m\n",
      "\u001b[?25hCollecting astunparse>=1.6.0\n",
      "  Using cached astunparse-1.6.3-py2.py3-none-any.whl (12 kB)\n",
      "Requirement already satisfied: setuptools in ./venv/lib/python3.10/site-packages (from tensorflow) (60.2.0)\n",
      "Collecting typing-extensions>=3.6.6\n",
      "  Downloading typing_extensions-4.4.0-py3-none-any.whl (26 kB)\n",
      "Requirement already satisfied: packaging in ./venv/lib/python3.10/site-packages (from tensorflow) (21.3)\n",
      "Collecting h5py>=2.9.0\n",
      "  Downloading h5py-3.7.0-cp310-cp310-manylinux_2_12_x86_64.manylinux2010_x86_64.whl (4.5 MB)\n",
      "\u001b[2K     \u001b[90m━━━━━━━━━━━━━━━━━━━━━━━━━━━━━━━━━━━━━━━━\u001b[0m \u001b[32m4.5/4.5 MB\u001b[0m \u001b[31m10.3 MB/s\u001b[0m eta \u001b[36m0:00:00\u001b[0m00:01\u001b[0m00:01\u001b[0m\n",
      "\u001b[?25hRequirement already satisfied: numpy>=1.20 in ./venv/lib/python3.10/site-packages (from tensorflow) (1.23.4)\n",
      "Collecting opt-einsum>=2.3.2\n",
      "  Using cached opt_einsum-3.3.0-py3-none-any.whl (65 kB)\n",
      "Collecting tensorflow-io-gcs-filesystem>=0.23.1\n",
      "  Downloading tensorflow_io_gcs_filesystem-0.28.0-cp310-cp310-manylinux_2_12_x86_64.manylinux2010_x86_64.whl (2.4 MB)\n",
      "\u001b[2K     \u001b[90m━━━━━━━━━━━━━━━━━━━━━━━━━━━━━━━━━━━━━━━━\u001b[0m \u001b[32m2.4/2.4 MB\u001b[0m \u001b[31m10.6 MB/s\u001b[0m eta \u001b[36m0:00:00\u001b[0ma \u001b[36m0:00:01\u001b[0m\n",
      "\u001b[?25hCollecting tensorflow-estimator<2.12,>=2.11.0\n",
      "  Downloading tensorflow_estimator-2.11.0-py2.py3-none-any.whl (439 kB)\n",
      "\u001b[2K     \u001b[90m━━━━━━━━━━━━━━━━━━━━━━━━━━━━━━━━━━━━━━\u001b[0m \u001b[32m439.2/439.2 kB\u001b[0m \u001b[31m10.3 MB/s\u001b[0m eta \u001b[36m0:00:00\u001b[0ma \u001b[36m0:00:01\u001b[0m\n",
      "\u001b[?25hCollecting gast<=0.4.0,>=0.2.1\n",
      "  Downloading gast-0.4.0-py3-none-any.whl (9.8 kB)\n",
      "Collecting wrapt>=1.11.0\n",
      "  Downloading wrapt-1.14.1-cp310-cp310-manylinux_2_5_x86_64.manylinux1_x86_64.manylinux_2_17_x86_64.manylinux2014_x86_64.whl (77 kB)\n",
      "\u001b[2K     \u001b[90m━━━━━━━━━━━━━━━━━━━━━━━━━━━━━━━━━━━━━━━━\u001b[0m \u001b[32m77.9/77.9 kB\u001b[0m \u001b[31m11.9 MB/s\u001b[0m eta \u001b[36m0:00:00\u001b[0m\n",
      "\u001b[?25hCollecting grpcio<2.0,>=1.24.3\n",
      "  Downloading grpcio-1.50.0-cp310-cp310-manylinux_2_17_x86_64.manylinux2014_x86_64.whl (4.7 MB)\n",
      "\u001b[2K     \u001b[90m━━━━━━━━━━━━━━━━━━━━━━━━━━━━━━━━━━━━━━━━\u001b[0m \u001b[32m4.7/4.7 MB\u001b[0m \u001b[31m10.5 MB/s\u001b[0m eta \u001b[36m0:00:00\u001b[0m00:01\u001b[0m00:01\u001b[0m\n",
      "\u001b[?25hCollecting libclang>=13.0.0\n",
      "  Downloading libclang-14.0.6-py2.py3-none-manylinux2010_x86_64.whl (14.1 MB)\n",
      "\u001b[2K     \u001b[90m━━━━━━━━━━━━━━━━━━━━━━━━━━━━━━━━━━━━━━━━\u001b[0m \u001b[32m14.1/14.1 MB\u001b[0m \u001b[31m10.5 MB/s\u001b[0m eta \u001b[36m0:00:00\u001b[0m00:01\u001b[0m00:01\u001b[0m\n",
      "\u001b[?25hRequirement already satisfied: six>=1.12.0 in ./venv/lib/python3.10/site-packages (from tensorflow) (1.16.0)\n",
      "Collecting protobuf<3.20,>=3.9.2\n",
      "  Downloading protobuf-3.19.6-cp310-cp310-manylinux_2_17_x86_64.manylinux2014_x86_64.whl (1.1 MB)\n",
      "\u001b[2K     \u001b[90m━━━━━━━━━━━━━━━━━━━━━━━━━━━━━━━━━━━━━━━━\u001b[0m \u001b[32m1.1/1.1 MB\u001b[0m \u001b[31m11.1 MB/s\u001b[0m eta \u001b[36m0:00:00\u001b[0ma \u001b[36m0:00:01\u001b[0m\n",
      "\u001b[?25hCollecting flatbuffers>=2.0\n",
      "  Downloading flatbuffers-22.10.26-py2.py3-none-any.whl (26 kB)\n",
      "Requirement already satisfied: keras<2.12,>=2.11.0 in ./venv/lib/python3.10/site-packages (from tensorflow) (2.11.0)\n",
      "Collecting termcolor>=1.1.0\n",
      "  Downloading termcolor-2.1.1-py3-none-any.whl (6.2 kB)\n",
      "Collecting google-pasta>=0.1.1\n",
      "  Using cached google_pasta-0.2.0-py3-none-any.whl (57 kB)\n",
      "Collecting tensorboard<2.12,>=2.11\n",
      "  Downloading tensorboard-2.11.0-py3-none-any.whl (6.0 MB)\n",
      "\u001b[2K     \u001b[90m━━━━━━━━━━━━━━━━━━━━━━━━━━━━━━━━━━━━━━━━\u001b[0m \u001b[32m6.0/6.0 MB\u001b[0m \u001b[31m11.0 MB/s\u001b[0m eta \u001b[36m0:00:00\u001b[0m00:01\u001b[0m00:01\u001b[0m\n",
      "\u001b[?25hRequirement already satisfied: wheel<1.0,>=0.23.0 in ./venv/lib/python3.10/site-packages (from astunparse>=1.6.0->tensorflow) (0.37.1)\n",
      "Collecting requests<3,>=2.21.0\n",
      "  Using cached requests-2.28.1-py3-none-any.whl (62 kB)\n",
      "Collecting tensorboard-plugin-wit>=1.6.0\n",
      "  Using cached tensorboard_plugin_wit-1.8.1-py3-none-any.whl (781 kB)\n",
      "Collecting google-auth<3,>=1.6.3\n",
      "  Downloading google_auth-2.14.1-py2.py3-none-any.whl (175 kB)\n",
      "\u001b[2K     \u001b[90m━━━━━━━━━━━━━━━━━━━━━━━━━━━━━━━━━━━━━━\u001b[0m \u001b[32m175.4/175.4 kB\u001b[0m \u001b[31m11.8 MB/s\u001b[0m eta \u001b[36m0:00:00\u001b[0m\n",
      "\u001b[?25hCollecting markdown>=2.6.8\n",
      "  Using cached Markdown-3.4.1-py3-none-any.whl (93 kB)\n",
      "Collecting werkzeug>=1.0.1\n",
      "  Using cached Werkzeug-2.2.2-py3-none-any.whl (232 kB)\n",
      "Collecting google-auth-oauthlib<0.5,>=0.4.1\n",
      "  Using cached google_auth_oauthlib-0.4.6-py2.py3-none-any.whl (18 kB)\n",
      "Collecting tensorboard-data-server<0.7.0,>=0.6.0\n",
      "  Downloading tensorboard_data_server-0.6.1-py3-none-manylinux2010_x86_64.whl (4.9 MB)\n",
      "\u001b[2K     \u001b[90m━━━━━━━━━━━━━━━━━━━━━━━━━━━━━━━━━━━━━━━━\u001b[0m \u001b[32m4.9/4.9 MB\u001b[0m \u001b[31m11.1 MB/s\u001b[0m eta \u001b[36m0:00:00\u001b[0m00:01\u001b[0m00:01\u001b[0m\n",
      "\u001b[?25hRequirement already satisfied: pyparsing!=3.0.5,>=2.0.2 in ./venv/lib/python3.10/site-packages (from packaging->tensorflow) (3.0.9)\n",
      "Collecting pyasn1-modules>=0.2.1\n",
      "  Using cached pyasn1_modules-0.2.8-py2.py3-none-any.whl (155 kB)\n",
      "Collecting cachetools<6.0,>=2.0.0\n",
      "  Downloading cachetools-5.2.0-py3-none-any.whl (9.3 kB)\n",
      "Collecting rsa<5,>=3.1.4\n",
      "  Using cached rsa-4.9-py3-none-any.whl (34 kB)\n",
      "Collecting requests-oauthlib>=0.7.0\n",
      "  Using cached requests_oauthlib-1.3.1-py2.py3-none-any.whl (23 kB)\n",
      "Requirement already satisfied: idna<4,>=2.5 in ./venv/lib/python3.10/site-packages (from requests<3,>=2.21.0->tensorboard<2.12,>=2.11->tensorflow) (3.4)\n",
      "Collecting charset-normalizer<3,>=2\n",
      "  Using cached charset_normalizer-2.1.1-py3-none-any.whl (39 kB)\n",
      "Collecting urllib3<1.27,>=1.21.1\n",
      "  Using cached urllib3-1.26.12-py2.py3-none-any.whl (140 kB)\n",
      "Collecting certifi>=2017.4.17\n",
      "  Downloading certifi-2022.9.24-py3-none-any.whl (161 kB)\n",
      "\u001b[2K     \u001b[90m━━━━━━━━━━━━━━━━━━━━━━━━━━━━━━━━━━━━━━\u001b[0m \u001b[32m161.1/161.1 kB\u001b[0m \u001b[31m11.2 MB/s\u001b[0m eta \u001b[36m0:00:00\u001b[0m\n",
      "\u001b[?25hRequirement already satisfied: MarkupSafe>=2.1.1 in ./venv/lib/python3.10/site-packages (from werkzeug>=1.0.1->tensorboard<2.12,>=2.11->tensorflow) (2.1.1)\n",
      "Collecting pyasn1<0.5.0,>=0.4.6\n",
      "  Using cached pyasn1-0.4.8-py2.py3-none-any.whl (77 kB)\n",
      "Collecting oauthlib>=3.0.0\n",
      "  Downloading oauthlib-3.2.2-py3-none-any.whl (151 kB)\n",
      "\u001b[2K     \u001b[90m━━━━━━━━━━━━━━━━━━━━━━━━━━━━━━━━━━━━━━\u001b[0m \u001b[32m151.7/151.7 kB\u001b[0m \u001b[31m12.3 MB/s\u001b[0m eta \u001b[36m0:00:00\u001b[0m\n",
      "\u001b[?25hInstalling collected packages: tensorboard-plugin-wit, pyasn1, libclang, flatbuffers, wrapt, werkzeug, urllib3, typing-extensions, termcolor, tensorflow-io-gcs-filesystem, tensorflow-estimator, tensorboard-data-server, rsa, pyasn1-modules, protobuf, opt-einsum, oauthlib, markdown, h5py, grpcio, google-pasta, gast, charset-normalizer, certifi, cachetools, astunparse, absl-py, requests, google-auth, requests-oauthlib, google-auth-oauthlib, tensorboard, tensorflow\n",
      "Successfully installed absl-py-1.3.0 astunparse-1.6.3 cachetools-5.2.0 certifi-2022.9.24 charset-normalizer-2.1.1 flatbuffers-22.10.26 gast-0.4.0 google-auth-2.14.1 google-auth-oauthlib-0.4.6 google-pasta-0.2.0 grpcio-1.50.0 h5py-3.7.0 libclang-14.0.6 markdown-3.4.1 oauthlib-3.2.2 opt-einsum-3.3.0 protobuf-3.19.6 pyasn1-0.4.8 pyasn1-modules-0.2.8 requests-2.28.1 requests-oauthlib-1.3.1 rsa-4.9 tensorboard-2.11.0 tensorboard-data-server-0.6.1 tensorboard-plugin-wit-1.8.1 tensorflow-2.11.0 tensorflow-estimator-2.11.0 tensorflow-io-gcs-filesystem-0.28.0 termcolor-2.1.1 typing-extensions-4.4.0 urllib3-1.26.12 werkzeug-2.2.2 wrapt-1.14.1\n"
     ]
    }
   ],
   "source": [
    "!pip install tensorflow"
   ]
  },
  {
   "cell_type": "code",
   "execution_count": 4,
   "metadata": {},
   "outputs": [
    {
     "name": "stderr",
     "output_type": "stream",
     "text": [
      "2022-11-24 10:39:03.066300: I tensorflow/core/platform/cpu_feature_guard.cc:193] This TensorFlow binary is optimized with oneAPI Deep Neural Network Library (oneDNN) to use the following CPU instructions in performance-critical operations:  AVX2 FMA\n",
      "To enable them in other operations, rebuild TensorFlow with the appropriate compiler flags.\n",
      "2022-11-24 10:39:03.250777: W tensorflow/compiler/xla/stream_executor/platform/default/dso_loader.cc:64] Could not load dynamic library 'libcudart.so.11.0'; dlerror: libcudart.so.11.0: cannot open shared object file: No such file or directory; LD_LIBRARY_PATH: /home/viktor/Projects/Kaggle_Projs/Plants_CV/venv/lib/python3.10/site-packages/cv2/../../lib64:\n",
      "2022-11-24 10:39:03.250812: I tensorflow/compiler/xla/stream_executor/cuda/cudart_stub.cc:29] Ignore above cudart dlerror if you do not have a GPU set up on your machine.\n",
      "2022-11-24 10:39:03.979236: W tensorflow/compiler/xla/stream_executor/platform/default/dso_loader.cc:64] Could not load dynamic library 'libnvinfer.so.7'; dlerror: libnvinfer.so.7: cannot open shared object file: No such file or directory; LD_LIBRARY_PATH: /home/viktor/Projects/Kaggle_Projs/Plants_CV/venv/lib/python3.10/site-packages/cv2/../../lib64:\n",
      "2022-11-24 10:39:03.979334: W tensorflow/compiler/xla/stream_executor/platform/default/dso_loader.cc:64] Could not load dynamic library 'libnvinfer_plugin.so.7'; dlerror: libnvinfer_plugin.so.7: cannot open shared object file: No such file or directory; LD_LIBRARY_PATH: /home/viktor/Projects/Kaggle_Projs/Plants_CV/venv/lib/python3.10/site-packages/cv2/../../lib64:\n",
      "2022-11-24 10:39:03.979343: W tensorflow/compiler/tf2tensorrt/utils/py_utils.cc:38] TF-TRT Warning: Cannot dlopen some TensorRT libraries. If you would like to use Nvidia GPU with TensorRT, please make sure the missing libraries mentioned above are installed properly.\n"
     ]
    }
   ],
   "source": [
    "from keras.preprocessing.image import ImageDataGenerator"
   ]
  },
  {
   "cell_type": "code",
   "execution_count": 31,
   "metadata": {},
   "outputs": [
    {
     "name": "stdout",
     "output_type": "stream",
     "text": [
      "Collecting Augmentor\n",
      "  Downloading Augmentor-0.2.10-py2.py3-none-any.whl (38 kB)\n",
      "Requirement already satisfied: numpy>=1.11.0 in ./venv/lib/python3.10/site-packages (from Augmentor) (1.23.4)\n",
      "Collecting future>=0.16.0\n",
      "  Downloading future-0.18.2.tar.gz (829 kB)\n",
      "\u001b[2K     \u001b[90m━━━━━━━━━━━━━━━━━━━━━━━━━━━━━━━━━━━━━━━\u001b[0m \u001b[32m829.2/829.2 kB\u001b[0m \u001b[31m1.1 MB/s\u001b[0m eta \u001b[36m0:00:00\u001b[0ma \u001b[36m0:00:01\u001b[0m\n",
      "\u001b[?25h  Preparing metadata (setup.py) ... \u001b[?25ldone\n",
      "\u001b[?25hRequirement already satisfied: tqdm>=4.9.0 in ./venv/lib/python3.10/site-packages (from Augmentor) (4.64.1)\n",
      "Requirement already satisfied: Pillow>=5.2.0 in ./venv/lib/python3.10/site-packages (from Augmentor) (9.2.0)\n",
      "Building wheels for collected packages: future\n",
      "  Building wheel for future (setup.py) ... \u001b[?25ldone\n",
      "\u001b[?25h  Created wheel for future: filename=future-0.18.2-py3-none-any.whl size=491070 sha256=cc63e191e96738cedb4f7005ef9c4a4fc3a1dc1a891fa12fd1a6b1a082c48317\n",
      "  Stored in directory: /home/viktor/.cache/pip/wheels/dc/16/09/eb08b4e34e6b638f113d2018cf0b22de1d8dca22a3a71873f7\n",
      "Successfully built future\n",
      "Installing collected packages: future, Augmentor\n",
      "Successfully installed Augmentor-0.2.10 future-0.18.2\n"
     ]
    }
   ],
   "source": [
    "!pip install Augmentor"
   ]
  },
  {
   "cell_type": "code",
   "execution_count": 32,
   "metadata": {},
   "outputs": [],
   "source": [
    "import Augmentor"
   ]
  },
  {
   "cell_type": "code",
   "execution_count": 42,
   "metadata": {},
   "outputs": [],
   "source": [
    "for fold in grasses:\n",
    "    os.mkdir(directorytf_aug+fold)"
   ]
  },
  {
   "cell_type": "code",
   "execution_count": 50,
   "metadata": {
    "scrolled": true
   },
   "outputs": [
    {
     "name": "stdout",
     "output_type": "stream",
     "text": [
      "Initialised with 654 image(s) found.\n",
      "Output directory set to all_data/train/Loose Silky-bent/aug."
     ]
    },
    {
     "name": "stderr",
     "output_type": "stream",
     "text": [
      "Processing <PIL.PngImagePlugin.PngImageFile image mode=RGB size=176x176 at 0x7FEF08AD70D0>: 100%|██████████████████████████████████████████████████████████████████████████████████████| 700/700 [00:13<00:00, 50.72 Samples/s]\n"
     ]
    },
    {
     "name": "stdout",
     "output_type": "stream",
     "text": [
      "Initialised with 390 image(s) found.\n",
      "Output directory set to all_data/train/Charlock/aug."
     ]
    },
    {
     "name": "stderr",
     "output_type": "stream",
     "text": [
      "Processing <PIL.Image.Image image mode=RGB size=244x244 at 0x7FEF08A79D80>: 100%|██████████████████████████████████████████████████████████████████████████████████████████████████████| 700/700 [00:08<00:00, 87.23 Samples/s]\n"
     ]
    },
    {
     "name": "stdout",
     "output_type": "stream",
     "text": [
      "Initialised with 496 image(s) found.\n",
      "Output directory set to all_data/train/Small-flowered Cranesbill/aug."
     ]
    },
    {
     "name": "stderr",
     "output_type": "stream",
     "text": [
      "Processing <PIL.Image.Image image mode=RGB size=157x157 at 0x7FEF0881F010>: 100%|█████████████████████████████████████████████████████████████████████████████████████████████████████| 700/700 [00:04<00:00, 145.99 Samples/s]\n"
     ]
    },
    {
     "name": "stdout",
     "output_type": "stream",
     "text": [
      "Initialised with 287 image(s) found.\n",
      "Output directory set to all_data/train/Cleavers/aug."
     ]
    },
    {
     "name": "stderr",
     "output_type": "stream",
     "text": [
      "Processing <PIL.Image.Image image mode=RGB size=313x313 at 0x7FEF088D7400>: 100%|█████████████████████████████████████████████████████████████████████████████████████████████████████| 700/700 [00:03<00:00, 185.10 Samples/s]\n"
     ]
    },
    {
     "name": "stdout",
     "output_type": "stream",
     "text": [
      "Initialised with 385 image(s) found.\n",
      "Output directory set to all_data/train/Sugar beet/aug."
     ]
    },
    {
     "name": "stderr",
     "output_type": "stream",
     "text": [
      "Processing <PIL.Image.Image image mode=RGB size=182x182 at 0x7FEEC8B56320>: 100%|██████████████████████████████████████████████████████████████████████████████████████████████████████| 700/700 [00:12<00:00, 56.29 Samples/s]\n"
     ]
    },
    {
     "name": "stdout",
     "output_type": "stream",
     "text": [
      "Initialised with 221 image(s) found.\n",
      "Output directory set to all_data/train/Maize/aug."
     ]
    },
    {
     "name": "stderr",
     "output_type": "stream",
     "text": [
      "Processing <PIL.Image.Image image mode=RGB size=59x59 at 0x7FEEC8A5AE30>: 100%|████████████████████████████████████████████████████████████████████████████████████████████████████████| 700/700 [00:09<00:00, 72.06 Samples/s]\n"
     ]
    },
    {
     "name": "stdout",
     "output_type": "stream",
     "text": [
      "Initialised with 221 image(s) found.\n",
      "Output directory set to all_data/train/Common wheat/aug."
     ]
    },
    {
     "name": "stderr",
     "output_type": "stream",
     "text": [
      "Processing <PIL.Image.Image image mode=RGB size=456x456 at 0x7FEF08ACB400>: 100%|██████████████████████████████████████████████████████████████████████████████████████████████████████| 700/700 [00:07<00:00, 95.73 Samples/s]\n"
     ]
    },
    {
     "name": "stdout",
     "output_type": "stream",
     "text": [
      "Initialised with 263 image(s) found.\n",
      "Output directory set to all_data/train/Black-grass/aug."
     ]
    },
    {
     "name": "stderr",
     "output_type": "stream",
     "text": [
      "Processing <PIL.Image.Image image mode=RGB size=354x354 at 0x7FEEC8A98820>: 100%|██████████████████████████████████████████████████████████████████████████████████████████████████████| 700/700 [00:19<00:00, 36.48 Samples/s]\n"
     ]
    },
    {
     "name": "stdout",
     "output_type": "stream",
     "text": [
      "Initialised with 231 image(s) found.\n",
      "Output directory set to all_data/train/Shepherds Purse/aug."
     ]
    },
    {
     "name": "stderr",
     "output_type": "stream",
     "text": [
      "Processing <PIL.Image.Image image mode=RGB size=439x439 at 0x7FEE48550DC0>: 100%|█████████████████████████████████████████████████████████████████████████████████████████████████████| 700/700 [00:04<00:00, 142.72 Samples/s]\n"
     ]
    },
    {
     "name": "stdout",
     "output_type": "stream",
     "text": [
      "Initialised with 475 image(s) found.\n",
      "Output directory set to all_data/train/Fat Hen/aug."
     ]
    },
    {
     "name": "stderr",
     "output_type": "stream",
     "text": [
      "Processing <PIL.Image.Image image mode=RGB size=202x202 at 0x7FEEC8A9A410>: 100%|█████████████████████████████████████████████████████████████████████████████████████████████████████| 700/700 [00:04<00:00, 150.77 Samples/s]\n"
     ]
    },
    {
     "name": "stdout",
     "output_type": "stream",
     "text": [
      "Initialised with 516 image(s) found.\n",
      "Output directory set to all_data/train/Scentless Mayweed/aug."
     ]
    },
    {
     "name": "stderr",
     "output_type": "stream",
     "text": [
      "Processing <PIL.Image.Image image mode=RGB size=138x138 at 0x7FEEC8C9A140>: 100%|█████████████████████████████████████████████████████████████████████████████████████████████████████| 700/700 [00:03<00:00, 218.98 Samples/s]\n"
     ]
    },
    {
     "name": "stdout",
     "output_type": "stream",
     "text": [
      "Initialised with 611 image(s) found.\n",
      "Output directory set to all_data/train/Common Chickweed/aug."
     ]
    },
    {
     "name": "stderr",
     "output_type": "stream",
     "text": [
      "Processing <PIL.Image.Image image mode=RGB size=156x156 at 0x7FEEC8A01840>: 100%|█████████████████████████████████████████████████████████████████████████████████████████████████████| 700/700 [00:02<00:00, 245.44 Samples/s]"
     ]
    },
    {
     "name": "stdout",
     "output_type": "stream",
     "text": [
      "All classes are processed\n"
     ]
    },
    {
     "name": "stderr",
     "output_type": "stream",
     "text": [
      "\n"
     ]
    }
   ],
   "source": [
    "for fold in grasses:\n",
    "    p = Augmentor.Pipeline(source_directory=directory+fold, output_directory='aug')\n",
    "    p.rotate(probability=0.5, max_left_rotation=25, max_right_rotation=25)\n",
    "    p.rotate_random_90(0.5)\n",
    "    p.sample(700)\n",
    "print('All classes are processed')"
   ]
  },
  {
   "cell_type": "code",
   "execution_count": 18,
   "metadata": {
    "colab": {
     "base_uri": "https://localhost:8080/"
    },
    "id": "WwQp_ToJvLjn",
    "outputId": "fc8c756a-335e-4ec5-b744-94d6d747281d"
   },
   "outputs": [],
   "source": [
    "ros = RandomOverSampler(random_state=seed)\n",
    "X_bal, Y_bal = ros.fit_resample(X, Y)"
   ]
  },
  {
   "cell_type": "code",
   "execution_count": 21,
   "metadata": {},
   "outputs": [],
   "source": [
    "smo = SMOTE(random_state=seed)\n",
    "X_bal, Y_bal = smo.fit_resample(X, Y)"
   ]
  },
  {
   "cell_type": "code",
   "execution_count": 5,
   "metadata": {},
   "outputs": [],
   "source": [
    "datagen = ImageDataGenerator(\n",
    "    rotation_range=45,\n",
    "    horizontal_flip=True,\n",
    "    vertical_flip=True,\n",
    "    fill_mode='constant'\n",
    ")"
   ]
  },
  {
   "cell_type": "code",
   "execution_count": 44,
   "metadata": {},
   "outputs": [],
   "source": [
    "aug_dir = 'all_data/'\n",
    "directory = 'all_data/train/'\n",
    "directorytf = 'all_data/train'\n",
    "directorytf_aug = 'all_data/augment/'\n",
    "pic_x = []\n",
    "pic_y = []"
   ]
  },
  {
   "cell_type": "code",
   "execution_count": 29,
   "metadata": {},
   "outputs": [
    {
     "name": "stdout",
     "output_type": "stream",
     "text": [
      "Found 4750 images belonging to 12 classes.\n"
     ]
    }
   ],
   "source": [
    "for\n",
    "    for i, batch in enumerate(datagen.flow_from_directory(directory=directorytf,\n",
    "                                             batch_size=16,\n",
    "                                             target_size=(100, 100),\n",
    "                                             color_mode='rgb',\n",
    "                                             class_mode='categorical',\n",
    "                                             save_to_dir=directorytf_aug,\n",
    "                                             save_prefix='aug',\n",
    "                                             save_format='png',\n",
    "                                            seed=seed)):\n",
    "      if i > 650:\n",
    "        break\n"
   ]
  },
  {
   "cell_type": "code",
   "execution_count": 26,
   "metadata": {},
   "outputs": [
    {
     "name": "stdout",
     "output_type": "stream",
     "text": [
      "Found 4750 images belonging to 12 classes.\n"
     ]
    }
   ],
   "source": [
    "for fold in grasses:\n",
    "    #os.mkdir(directorytf_aug+fold)\n",
    "    i = 0\n",
    "    for batch in datagen.flow_from_directory(directory=(directory+fold),\n",
    "                                             batch_size=32,\n",
    "                                             target_size=(100, 100),\n",
    "                                             color_mode='rgb',\n",
    "                                             #class_mode='binary',\n",
    "                                             save_to_dir=directorytf_aug+fold,\n",
    "                                             save_prefix='aug',\n",
    "                                             save_format='png'):\n",
    "      i+=1\n",
    "      if i > 650:\n",
    "        break\n"
   ]
  },
  {
   "cell_type": "markdown",
   "metadata": {},
   "source": [
    "# Test preparation"
   ]
  },
  {
   "cell_type": "code",
   "execution_count": null,
   "metadata": {},
   "outputs": [],
   "source": [
    "#test dataset\n",
    "for filename in os.listdir(directory_test):\n",
    "    #print(filename)\n",
    "    pic = cv.imread(directory_test+filename)  # mb dir with linux command\n",
    "    pic1 = cv.resize(pic, (100,100))\n",
    "    pic2 = cv.cvtColor(pic1, cv.COLOR_BGR2LAB)\n",
    "    a_channel = pic2[:,:,1]\n",
    "    th = cv.threshold(a_channel,125,255,cv.THRESH_BINARY_INV+cv.THRESH_OTSU)[1]\n",
    "    masked_hsv = cv.bitwise_and(pic2,  pic2, mask = th)\n",
    "    masked = cv.cvtColor(masked_hsv, cv.COLOR_HSV2RGB)\n",
    "    pic_x.append(masked)\n",
    "    pic_xname.append(filename)"
   ]
  },
  {
   "cell_type": "code",
   "execution_count": null,
   "metadata": {},
   "outputs": [],
   "source": [
    "#test dataset unmasked\n",
    "for filename in os.listdir(directory_test):\n",
    "    #print(filename)\n",
    "    pic = cv.imread(directory_test+filename)  # mb dir with linux command\n",
    "    pic1 = cv.resize(pic, (100,100))\n",
    "    pic2 = cv.cvtColor(pic1, cv.COLOR_BGR2RGB)\n",
    "    #a_channel = pic2[:,:,1]\n",
    "    #th = cv.threshold(a_channel,125,255,cv.THRESH_BINARY_INV+cv.THRESH_OTSU)[1]\n",
    "    #masked_hsv = cv.bitwise_and(pic2,  pic2, mask = th)\n",
    "    #masked = cv.cvtColor(masked_hsv, cv.COLOR_HSV2RGB)\n",
    "    pic_x.append(pic2)\n",
    "    pic_xname.append(filename)"
   ]
  },
  {
   "cell_type": "code",
   "execution_count": null,
   "metadata": {},
   "outputs": [],
   "source": [
    "X = np.array(pic_x)\n",
    "X = preprocess_input(X)"
   ]
  },
  {
   "cell_type": "code",
   "execution_count": null,
   "metadata": {},
   "outputs": [],
   "source": []
  },
  {
   "cell_type": "markdown",
   "metadata": {},
   "source": [
    "# Feature extraction with ResNet50"
   ]
  },
  {
   "cell_type": "code",
   "execution_count": 21,
   "metadata": {},
   "outputs": [
    {
     "name": "stderr",
     "output_type": "stream",
     "text": [
      "2022-12-21 15:46:55.379496: E tensorflow/compiler/xla/stream_executor/cuda/cuda_driver.cc:267] failed call to cuInit: CUDA_ERROR_NO_DEVICE: no CUDA-capable device is detected\n",
      "2022-12-21 15:46:55.380772: I tensorflow/compiler/xla/stream_executor/cuda/cuda_diagnostics.cc:156] kernel driver does not appear to be running on this host (viktor-furda): /proc/driver/nvidia/version does not exist\n",
      "2022-12-21 15:46:55.389825: I tensorflow/core/platform/cpu_feature_guard.cc:193] This TensorFlow binary is optimized with oneAPI Deep Neural Network Library (oneDNN) to use the following CPU instructions in performance-critical operations:  AVX2 FMA\n",
      "To enable them in other operations, rebuild TensorFlow with the appropriate compiler flags.\n"
     ]
    }
   ],
   "source": [
    "base_model = ResNet50(include_top=False, weights='imagenet', input_shape=(100,100,3))"
   ]
  },
  {
   "cell_type": "code",
   "execution_count": 22,
   "metadata": {},
   "outputs": [
    {
     "name": "stdout",
     "output_type": "stream",
     "text": [
      "Model: \"resnet50\"\n",
      "__________________________________________________________________________________________________\n",
      " Layer (type)                   Output Shape         Param #     Connected to                     \n",
      "==================================================================================================\n",
      " input_1 (InputLayer)           [(None, 100, 100, 3  0           []                               \n",
      "                                )]                                                                \n",
      "                                                                                                  \n",
      " conv1_pad (ZeroPadding2D)      (None, 106, 106, 3)  0           ['input_1[0][0]']                \n",
      "                                                                                                  \n",
      " conv1_conv (Conv2D)            (None, 50, 50, 64)   9472        ['conv1_pad[0][0]']              \n",
      "                                                                                                  \n",
      " conv1_bn (BatchNormalization)  (None, 50, 50, 64)   256         ['conv1_conv[0][0]']             \n",
      "                                                                                                  \n",
      " conv1_relu (Activation)        (None, 50, 50, 64)   0           ['conv1_bn[0][0]']               \n",
      "                                                                                                  \n",
      " pool1_pad (ZeroPadding2D)      (None, 52, 52, 64)   0           ['conv1_relu[0][0]']             \n",
      "                                                                                                  \n",
      " pool1_pool (MaxPooling2D)      (None, 25, 25, 64)   0           ['pool1_pad[0][0]']              \n",
      "                                                                                                  \n",
      " conv2_block1_1_conv (Conv2D)   (None, 25, 25, 64)   4160        ['pool1_pool[0][0]']             \n",
      "                                                                                                  \n",
      " conv2_block1_1_bn (BatchNormal  (None, 25, 25, 64)  256         ['conv2_block1_1_conv[0][0]']    \n",
      " ization)                                                                                         \n",
      "                                                                                                  \n",
      " conv2_block1_1_relu (Activatio  (None, 25, 25, 64)  0           ['conv2_block1_1_bn[0][0]']      \n",
      " n)                                                                                               \n",
      "                                                                                                  \n",
      " conv2_block1_2_conv (Conv2D)   (None, 25, 25, 64)   36928       ['conv2_block1_1_relu[0][0]']    \n",
      "                                                                                                  \n",
      " conv2_block1_2_bn (BatchNormal  (None, 25, 25, 64)  256         ['conv2_block1_2_conv[0][0]']    \n",
      " ization)                                                                                         \n",
      "                                                                                                  \n",
      " conv2_block1_2_relu (Activatio  (None, 25, 25, 64)  0           ['conv2_block1_2_bn[0][0]']      \n",
      " n)                                                                                               \n",
      "                                                                                                  \n",
      " conv2_block1_0_conv (Conv2D)   (None, 25, 25, 256)  16640       ['pool1_pool[0][0]']             \n",
      "                                                                                                  \n",
      " conv2_block1_3_conv (Conv2D)   (None, 25, 25, 256)  16640       ['conv2_block1_2_relu[0][0]']    \n",
      "                                                                                                  \n",
      " conv2_block1_0_bn (BatchNormal  (None, 25, 25, 256)  1024       ['conv2_block1_0_conv[0][0]']    \n",
      " ization)                                                                                         \n",
      "                                                                                                  \n",
      " conv2_block1_3_bn (BatchNormal  (None, 25, 25, 256)  1024       ['conv2_block1_3_conv[0][0]']    \n",
      " ization)                                                                                         \n",
      "                                                                                                  \n",
      " conv2_block1_add (Add)         (None, 25, 25, 256)  0           ['conv2_block1_0_bn[0][0]',      \n",
      "                                                                  'conv2_block1_3_bn[0][0]']      \n",
      "                                                                                                  \n",
      " conv2_block1_out (Activation)  (None, 25, 25, 256)  0           ['conv2_block1_add[0][0]']       \n",
      "                                                                                                  \n",
      " conv2_block2_1_conv (Conv2D)   (None, 25, 25, 64)   16448       ['conv2_block1_out[0][0]']       \n",
      "                                                                                                  \n",
      " conv2_block2_1_bn (BatchNormal  (None, 25, 25, 64)  256         ['conv2_block2_1_conv[0][0]']    \n",
      " ization)                                                                                         \n",
      "                                                                                                  \n",
      " conv2_block2_1_relu (Activatio  (None, 25, 25, 64)  0           ['conv2_block2_1_bn[0][0]']      \n",
      " n)                                                                                               \n",
      "                                                                                                  \n",
      " conv2_block2_2_conv (Conv2D)   (None, 25, 25, 64)   36928       ['conv2_block2_1_relu[0][0]']    \n",
      "                                                                                                  \n",
      " conv2_block2_2_bn (BatchNormal  (None, 25, 25, 64)  256         ['conv2_block2_2_conv[0][0]']    \n",
      " ization)                                                                                         \n",
      "                                                                                                  \n",
      " conv2_block2_2_relu (Activatio  (None, 25, 25, 64)  0           ['conv2_block2_2_bn[0][0]']      \n",
      " n)                                                                                               \n",
      "                                                                                                  \n",
      " conv2_block2_3_conv (Conv2D)   (None, 25, 25, 256)  16640       ['conv2_block2_2_relu[0][0]']    \n",
      "                                                                                                  \n",
      " conv2_block2_3_bn (BatchNormal  (None, 25, 25, 256)  1024       ['conv2_block2_3_conv[0][0]']    \n",
      " ization)                                                                                         \n",
      "                                                                                                  \n",
      " conv2_block2_add (Add)         (None, 25, 25, 256)  0           ['conv2_block1_out[0][0]',       \n",
      "                                                                  'conv2_block2_3_bn[0][0]']      \n",
      "                                                                                                  \n",
      " conv2_block2_out (Activation)  (None, 25, 25, 256)  0           ['conv2_block2_add[0][0]']       \n",
      "                                                                                                  \n",
      " conv2_block3_1_conv (Conv2D)   (None, 25, 25, 64)   16448       ['conv2_block2_out[0][0]']       \n",
      "                                                                                                  \n",
      " conv2_block3_1_bn (BatchNormal  (None, 25, 25, 64)  256         ['conv2_block3_1_conv[0][0]']    \n",
      " ization)                                                                                         \n",
      "                                                                                                  \n",
      " conv2_block3_1_relu (Activatio  (None, 25, 25, 64)  0           ['conv2_block3_1_bn[0][0]']      \n",
      " n)                                                                                               \n",
      "                                                                                                  \n"
     ]
    },
    {
     "name": "stdout",
     "output_type": "stream",
     "text": [
      " conv2_block3_2_conv (Conv2D)   (None, 25, 25, 64)   36928       ['conv2_block3_1_relu[0][0]']    \n",
      "                                                                                                  \n",
      " conv2_block3_2_bn (BatchNormal  (None, 25, 25, 64)  256         ['conv2_block3_2_conv[0][0]']    \n",
      " ization)                                                                                         \n",
      "                                                                                                  \n",
      " conv2_block3_2_relu (Activatio  (None, 25, 25, 64)  0           ['conv2_block3_2_bn[0][0]']      \n",
      " n)                                                                                               \n",
      "                                                                                                  \n",
      " conv2_block3_3_conv (Conv2D)   (None, 25, 25, 256)  16640       ['conv2_block3_2_relu[0][0]']    \n",
      "                                                                                                  \n",
      " conv2_block3_3_bn (BatchNormal  (None, 25, 25, 256)  1024       ['conv2_block3_3_conv[0][0]']    \n",
      " ization)                                                                                         \n",
      "                                                                                                  \n",
      " conv2_block3_add (Add)         (None, 25, 25, 256)  0           ['conv2_block2_out[0][0]',       \n",
      "                                                                  'conv2_block3_3_bn[0][0]']      \n",
      "                                                                                                  \n",
      " conv2_block3_out (Activation)  (None, 25, 25, 256)  0           ['conv2_block3_add[0][0]']       \n",
      "                                                                                                  \n",
      " conv3_block1_1_conv (Conv2D)   (None, 13, 13, 128)  32896       ['conv2_block3_out[0][0]']       \n",
      "                                                                                                  \n",
      " conv3_block1_1_bn (BatchNormal  (None, 13, 13, 128)  512        ['conv3_block1_1_conv[0][0]']    \n",
      " ization)                                                                                         \n",
      "                                                                                                  \n",
      " conv3_block1_1_relu (Activatio  (None, 13, 13, 128)  0          ['conv3_block1_1_bn[0][0]']      \n",
      " n)                                                                                               \n",
      "                                                                                                  \n",
      " conv3_block1_2_conv (Conv2D)   (None, 13, 13, 128)  147584      ['conv3_block1_1_relu[0][0]']    \n",
      "                                                                                                  \n",
      " conv3_block1_2_bn (BatchNormal  (None, 13, 13, 128)  512        ['conv3_block1_2_conv[0][0]']    \n",
      " ization)                                                                                         \n",
      "                                                                                                  \n",
      " conv3_block1_2_relu (Activatio  (None, 13, 13, 128)  0          ['conv3_block1_2_bn[0][0]']      \n",
      " n)                                                                                               \n",
      "                                                                                                  \n",
      " conv3_block1_0_conv (Conv2D)   (None, 13, 13, 512)  131584      ['conv2_block3_out[0][0]']       \n",
      "                                                                                                  \n",
      " conv3_block1_3_conv (Conv2D)   (None, 13, 13, 512)  66048       ['conv3_block1_2_relu[0][0]']    \n",
      "                                                                                                  \n",
      " conv3_block1_0_bn (BatchNormal  (None, 13, 13, 512)  2048       ['conv3_block1_0_conv[0][0]']    \n",
      " ization)                                                                                         \n",
      "                                                                                                  \n",
      " conv3_block1_3_bn (BatchNormal  (None, 13, 13, 512)  2048       ['conv3_block1_3_conv[0][0]']    \n",
      " ization)                                                                                         \n",
      "                                                                                                  \n",
      " conv3_block1_add (Add)         (None, 13, 13, 512)  0           ['conv3_block1_0_bn[0][0]',      \n",
      "                                                                  'conv3_block1_3_bn[0][0]']      \n",
      "                                                                                                  \n",
      " conv3_block1_out (Activation)  (None, 13, 13, 512)  0           ['conv3_block1_add[0][0]']       \n",
      "                                                                                                  \n",
      " conv3_block2_1_conv (Conv2D)   (None, 13, 13, 128)  65664       ['conv3_block1_out[0][0]']       \n",
      "                                                                                                  \n",
      " conv3_block2_1_bn (BatchNormal  (None, 13, 13, 128)  512        ['conv3_block2_1_conv[0][0]']    \n",
      " ization)                                                                                         \n",
      "                                                                                                  \n",
      " conv3_block2_1_relu (Activatio  (None, 13, 13, 128)  0          ['conv3_block2_1_bn[0][0]']      \n",
      " n)                                                                                               \n",
      "                                                                                                  \n",
      " conv3_block2_2_conv (Conv2D)   (None, 13, 13, 128)  147584      ['conv3_block2_1_relu[0][0]']    \n",
      "                                                                                                  \n",
      " conv3_block2_2_bn (BatchNormal  (None, 13, 13, 128)  512        ['conv3_block2_2_conv[0][0]']    \n",
      " ization)                                                                                         \n",
      "                                                                                                  \n",
      " conv3_block2_2_relu (Activatio  (None, 13, 13, 128)  0          ['conv3_block2_2_bn[0][0]']      \n",
      " n)                                                                                               \n",
      "                                                                                                  \n",
      " conv3_block2_3_conv (Conv2D)   (None, 13, 13, 512)  66048       ['conv3_block2_2_relu[0][0]']    \n",
      "                                                                                                  \n",
      " conv3_block2_3_bn (BatchNormal  (None, 13, 13, 512)  2048       ['conv3_block2_3_conv[0][0]']    \n",
      " ization)                                                                                         \n",
      "                                                                                                  \n",
      " conv3_block2_add (Add)         (None, 13, 13, 512)  0           ['conv3_block1_out[0][0]',       \n",
      "                                                                  'conv3_block2_3_bn[0][0]']      \n",
      "                                                                                                  \n",
      " conv3_block2_out (Activation)  (None, 13, 13, 512)  0           ['conv3_block2_add[0][0]']       \n",
      "                                                                                                  \n",
      " conv3_block3_1_conv (Conv2D)   (None, 13, 13, 128)  65664       ['conv3_block2_out[0][0]']       \n",
      "                                                                                                  \n",
      " conv3_block3_1_bn (BatchNormal  (None, 13, 13, 128)  512        ['conv3_block3_1_conv[0][0]']    \n",
      " ization)                                                                                         \n",
      "                                                                                                  \n",
      " conv3_block3_1_relu (Activatio  (None, 13, 13, 128)  0          ['conv3_block3_1_bn[0][0]']      \n",
      " n)                                                                                               \n",
      "                                                                                                  \n"
     ]
    },
    {
     "name": "stdout",
     "output_type": "stream",
     "text": [
      " conv3_block3_2_conv (Conv2D)   (None, 13, 13, 128)  147584      ['conv3_block3_1_relu[0][0]']    \n",
      "                                                                                                  \n",
      " conv3_block3_2_bn (BatchNormal  (None, 13, 13, 128)  512        ['conv3_block3_2_conv[0][0]']    \n",
      " ization)                                                                                         \n",
      "                                                                                                  \n",
      " conv3_block3_2_relu (Activatio  (None, 13, 13, 128)  0          ['conv3_block3_2_bn[0][0]']      \n",
      " n)                                                                                               \n",
      "                                                                                                  \n",
      " conv3_block3_3_conv (Conv2D)   (None, 13, 13, 512)  66048       ['conv3_block3_2_relu[0][0]']    \n",
      "                                                                                                  \n",
      " conv3_block3_3_bn (BatchNormal  (None, 13, 13, 512)  2048       ['conv3_block3_3_conv[0][0]']    \n",
      " ization)                                                                                         \n",
      "                                                                                                  \n",
      " conv3_block3_add (Add)         (None, 13, 13, 512)  0           ['conv3_block2_out[0][0]',       \n",
      "                                                                  'conv3_block3_3_bn[0][0]']      \n",
      "                                                                                                  \n",
      " conv3_block3_out (Activation)  (None, 13, 13, 512)  0           ['conv3_block3_add[0][0]']       \n",
      "                                                                                                  \n",
      " conv3_block4_1_conv (Conv2D)   (None, 13, 13, 128)  65664       ['conv3_block3_out[0][0]']       \n",
      "                                                                                                  \n",
      " conv3_block4_1_bn (BatchNormal  (None, 13, 13, 128)  512        ['conv3_block4_1_conv[0][0]']    \n",
      " ization)                                                                                         \n",
      "                                                                                                  \n",
      " conv3_block4_1_relu (Activatio  (None, 13, 13, 128)  0          ['conv3_block4_1_bn[0][0]']      \n",
      " n)                                                                                               \n",
      "                                                                                                  \n",
      " conv3_block4_2_conv (Conv2D)   (None, 13, 13, 128)  147584      ['conv3_block4_1_relu[0][0]']    \n",
      "                                                                                                  \n",
      " conv3_block4_2_bn (BatchNormal  (None, 13, 13, 128)  512        ['conv3_block4_2_conv[0][0]']    \n",
      " ization)                                                                                         \n",
      "                                                                                                  \n",
      " conv3_block4_2_relu (Activatio  (None, 13, 13, 128)  0          ['conv3_block4_2_bn[0][0]']      \n",
      " n)                                                                                               \n",
      "                                                                                                  \n",
      " conv3_block4_3_conv (Conv2D)   (None, 13, 13, 512)  66048       ['conv3_block4_2_relu[0][0]']    \n",
      "                                                                                                  \n",
      " conv3_block4_3_bn (BatchNormal  (None, 13, 13, 512)  2048       ['conv3_block4_3_conv[0][0]']    \n",
      " ization)                                                                                         \n",
      "                                                                                                  \n",
      " conv3_block4_add (Add)         (None, 13, 13, 512)  0           ['conv3_block3_out[0][0]',       \n",
      "                                                                  'conv3_block4_3_bn[0][0]']      \n",
      "                                                                                                  \n",
      " conv3_block4_out (Activation)  (None, 13, 13, 512)  0           ['conv3_block4_add[0][0]']       \n",
      "                                                                                                  \n",
      " conv4_block1_1_conv (Conv2D)   (None, 7, 7, 256)    131328      ['conv3_block4_out[0][0]']       \n",
      "                                                                                                  \n",
      " conv4_block1_1_bn (BatchNormal  (None, 7, 7, 256)   1024        ['conv4_block1_1_conv[0][0]']    \n",
      " ization)                                                                                         \n",
      "                                                                                                  \n",
      " conv4_block1_1_relu (Activatio  (None, 7, 7, 256)   0           ['conv4_block1_1_bn[0][0]']      \n",
      " n)                                                                                               \n",
      "                                                                                                  \n",
      " conv4_block1_2_conv (Conv2D)   (None, 7, 7, 256)    590080      ['conv4_block1_1_relu[0][0]']    \n",
      "                                                                                                  \n",
      " conv4_block1_2_bn (BatchNormal  (None, 7, 7, 256)   1024        ['conv4_block1_2_conv[0][0]']    \n",
      " ization)                                                                                         \n",
      "                                                                                                  \n",
      " conv4_block1_2_relu (Activatio  (None, 7, 7, 256)   0           ['conv4_block1_2_bn[0][0]']      \n",
      " n)                                                                                               \n",
      "                                                                                                  \n",
      " conv4_block1_0_conv (Conv2D)   (None, 7, 7, 1024)   525312      ['conv3_block4_out[0][0]']       \n",
      "                                                                                                  \n",
      " conv4_block1_3_conv (Conv2D)   (None, 7, 7, 1024)   263168      ['conv4_block1_2_relu[0][0]']    \n",
      "                                                                                                  \n",
      " conv4_block1_0_bn (BatchNormal  (None, 7, 7, 1024)  4096        ['conv4_block1_0_conv[0][0]']    \n",
      " ization)                                                                                         \n",
      "                                                                                                  \n",
      " conv4_block1_3_bn (BatchNormal  (None, 7, 7, 1024)  4096        ['conv4_block1_3_conv[0][0]']    \n",
      " ization)                                                                                         \n",
      "                                                                                                  \n",
      " conv4_block1_add (Add)         (None, 7, 7, 1024)   0           ['conv4_block1_0_bn[0][0]',      \n",
      "                                                                  'conv4_block1_3_bn[0][0]']      \n",
      "                                                                                                  \n",
      " conv4_block1_out (Activation)  (None, 7, 7, 1024)   0           ['conv4_block1_add[0][0]']       \n",
      "                                                                                                  \n",
      " conv4_block2_1_conv (Conv2D)   (None, 7, 7, 256)    262400      ['conv4_block1_out[0][0]']       \n",
      "                                                                                                  \n",
      " conv4_block2_1_bn (BatchNormal  (None, 7, 7, 256)   1024        ['conv4_block2_1_conv[0][0]']    \n",
      " ization)                                                                                         \n",
      "                                                                                                  \n",
      " conv4_block2_1_relu (Activatio  (None, 7, 7, 256)   0           ['conv4_block2_1_bn[0][0]']      \n",
      " n)                                                                                               \n",
      "                                                                                                  \n"
     ]
    },
    {
     "name": "stdout",
     "output_type": "stream",
     "text": [
      " conv4_block2_2_conv (Conv2D)   (None, 7, 7, 256)    590080      ['conv4_block2_1_relu[0][0]']    \n",
      "                                                                                                  \n",
      " conv4_block2_2_bn (BatchNormal  (None, 7, 7, 256)   1024        ['conv4_block2_2_conv[0][0]']    \n",
      " ization)                                                                                         \n",
      "                                                                                                  \n",
      " conv4_block2_2_relu (Activatio  (None, 7, 7, 256)   0           ['conv4_block2_2_bn[0][0]']      \n",
      " n)                                                                                               \n",
      "                                                                                                  \n",
      " conv4_block2_3_conv (Conv2D)   (None, 7, 7, 1024)   263168      ['conv4_block2_2_relu[0][0]']    \n",
      "                                                                                                  \n",
      " conv4_block2_3_bn (BatchNormal  (None, 7, 7, 1024)  4096        ['conv4_block2_3_conv[0][0]']    \n",
      " ization)                                                                                         \n",
      "                                                                                                  \n",
      " conv4_block2_add (Add)         (None, 7, 7, 1024)   0           ['conv4_block1_out[0][0]',       \n",
      "                                                                  'conv4_block2_3_bn[0][0]']      \n",
      "                                                                                                  \n",
      " conv4_block2_out (Activation)  (None, 7, 7, 1024)   0           ['conv4_block2_add[0][0]']       \n",
      "                                                                                                  \n",
      " conv4_block3_1_conv (Conv2D)   (None, 7, 7, 256)    262400      ['conv4_block2_out[0][0]']       \n",
      "                                                                                                  \n",
      " conv4_block3_1_bn (BatchNormal  (None, 7, 7, 256)   1024        ['conv4_block3_1_conv[0][0]']    \n",
      " ization)                                                                                         \n",
      "                                                                                                  \n",
      " conv4_block3_1_relu (Activatio  (None, 7, 7, 256)   0           ['conv4_block3_1_bn[0][0]']      \n",
      " n)                                                                                               \n",
      "                                                                                                  \n",
      " conv4_block3_2_conv (Conv2D)   (None, 7, 7, 256)    590080      ['conv4_block3_1_relu[0][0]']    \n",
      "                                                                                                  \n",
      " conv4_block3_2_bn (BatchNormal  (None, 7, 7, 256)   1024        ['conv4_block3_2_conv[0][0]']    \n",
      " ization)                                                                                         \n",
      "                                                                                                  \n",
      " conv4_block3_2_relu (Activatio  (None, 7, 7, 256)   0           ['conv4_block3_2_bn[0][0]']      \n",
      " n)                                                                                               \n",
      "                                                                                                  \n",
      " conv4_block3_3_conv (Conv2D)   (None, 7, 7, 1024)   263168      ['conv4_block3_2_relu[0][0]']    \n",
      "                                                                                                  \n",
      " conv4_block3_3_bn (BatchNormal  (None, 7, 7, 1024)  4096        ['conv4_block3_3_conv[0][0]']    \n",
      " ization)                                                                                         \n",
      "                                                                                                  \n",
      " conv4_block3_add (Add)         (None, 7, 7, 1024)   0           ['conv4_block2_out[0][0]',       \n",
      "                                                                  'conv4_block3_3_bn[0][0]']      \n",
      "                                                                                                  \n",
      " conv4_block3_out (Activation)  (None, 7, 7, 1024)   0           ['conv4_block3_add[0][0]']       \n",
      "                                                                                                  \n",
      " conv4_block4_1_conv (Conv2D)   (None, 7, 7, 256)    262400      ['conv4_block3_out[0][0]']       \n",
      "                                                                                                  \n",
      " conv4_block4_1_bn (BatchNormal  (None, 7, 7, 256)   1024        ['conv4_block4_1_conv[0][0]']    \n",
      " ization)                                                                                         \n",
      "                                                                                                  \n",
      " conv4_block4_1_relu (Activatio  (None, 7, 7, 256)   0           ['conv4_block4_1_bn[0][0]']      \n",
      " n)                                                                                               \n",
      "                                                                                                  \n",
      " conv4_block4_2_conv (Conv2D)   (None, 7, 7, 256)    590080      ['conv4_block4_1_relu[0][0]']    \n",
      "                                                                                                  \n",
      " conv4_block4_2_bn (BatchNormal  (None, 7, 7, 256)   1024        ['conv4_block4_2_conv[0][0]']    \n",
      " ization)                                                                                         \n",
      "                                                                                                  \n",
      " conv4_block4_2_relu (Activatio  (None, 7, 7, 256)   0           ['conv4_block4_2_bn[0][0]']      \n",
      " n)                                                                                               \n",
      "                                                                                                  \n",
      " conv4_block4_3_conv (Conv2D)   (None, 7, 7, 1024)   263168      ['conv4_block4_2_relu[0][0]']    \n",
      "                                                                                                  \n",
      " conv4_block4_3_bn (BatchNormal  (None, 7, 7, 1024)  4096        ['conv4_block4_3_conv[0][0]']    \n",
      " ization)                                                                                         \n",
      "                                                                                                  \n",
      " conv4_block4_add (Add)         (None, 7, 7, 1024)   0           ['conv4_block3_out[0][0]',       \n",
      "                                                                  'conv4_block4_3_bn[0][0]']      \n",
      "                                                                                                  \n",
      " conv4_block4_out (Activation)  (None, 7, 7, 1024)   0           ['conv4_block4_add[0][0]']       \n",
      "                                                                                                  \n",
      " conv4_block5_1_conv (Conv2D)   (None, 7, 7, 256)    262400      ['conv4_block4_out[0][0]']       \n",
      "                                                                                                  \n",
      " conv4_block5_1_bn (BatchNormal  (None, 7, 7, 256)   1024        ['conv4_block5_1_conv[0][0]']    \n",
      " ization)                                                                                         \n",
      "                                                                                                  \n",
      " conv4_block5_1_relu (Activatio  (None, 7, 7, 256)   0           ['conv4_block5_1_bn[0][0]']      \n",
      " n)                                                                                               \n",
      "                                                                                                  \n",
      " conv4_block5_2_conv (Conv2D)   (None, 7, 7, 256)    590080      ['conv4_block5_1_relu[0][0]']    \n",
      "                                                                                                  \n",
      " conv4_block5_2_bn (BatchNormal  (None, 7, 7, 256)   1024        ['conv4_block5_2_conv[0][0]']    \n",
      " ization)                                                                                         \n",
      "                                                                                                  \n"
     ]
    },
    {
     "name": "stdout",
     "output_type": "stream",
     "text": [
      " conv4_block5_2_relu (Activatio  (None, 7, 7, 256)   0           ['conv4_block5_2_bn[0][0]']      \n",
      " n)                                                                                               \n",
      "                                                                                                  \n",
      " conv4_block5_3_conv (Conv2D)   (None, 7, 7, 1024)   263168      ['conv4_block5_2_relu[0][0]']    \n",
      "                                                                                                  \n",
      " conv4_block5_3_bn (BatchNormal  (None, 7, 7, 1024)  4096        ['conv4_block5_3_conv[0][0]']    \n",
      " ization)                                                                                         \n",
      "                                                                                                  \n",
      " conv4_block5_add (Add)         (None, 7, 7, 1024)   0           ['conv4_block4_out[0][0]',       \n",
      "                                                                  'conv4_block5_3_bn[0][0]']      \n",
      "                                                                                                  \n",
      " conv4_block5_out (Activation)  (None, 7, 7, 1024)   0           ['conv4_block5_add[0][0]']       \n",
      "                                                                                                  \n",
      " conv4_block6_1_conv (Conv2D)   (None, 7, 7, 256)    262400      ['conv4_block5_out[0][0]']       \n",
      "                                                                                                  \n",
      " conv4_block6_1_bn (BatchNormal  (None, 7, 7, 256)   1024        ['conv4_block6_1_conv[0][0]']    \n",
      " ization)                                                                                         \n",
      "                                                                                                  \n",
      " conv4_block6_1_relu (Activatio  (None, 7, 7, 256)   0           ['conv4_block6_1_bn[0][0]']      \n",
      " n)                                                                                               \n",
      "                                                                                                  \n",
      " conv4_block6_2_conv (Conv2D)   (None, 7, 7, 256)    590080      ['conv4_block6_1_relu[0][0]']    \n",
      "                                                                                                  \n",
      " conv4_block6_2_bn (BatchNormal  (None, 7, 7, 256)   1024        ['conv4_block6_2_conv[0][0]']    \n",
      " ization)                                                                                         \n",
      "                                                                                                  \n",
      " conv4_block6_2_relu (Activatio  (None, 7, 7, 256)   0           ['conv4_block6_2_bn[0][0]']      \n",
      " n)                                                                                               \n",
      "                                                                                                  \n",
      " conv4_block6_3_conv (Conv2D)   (None, 7, 7, 1024)   263168      ['conv4_block6_2_relu[0][0]']    \n",
      "                                                                                                  \n",
      " conv4_block6_3_bn (BatchNormal  (None, 7, 7, 1024)  4096        ['conv4_block6_3_conv[0][0]']    \n",
      " ization)                                                                                         \n",
      "                                                                                                  \n",
      " conv4_block6_add (Add)         (None, 7, 7, 1024)   0           ['conv4_block5_out[0][0]',       \n",
      "                                                                  'conv4_block6_3_bn[0][0]']      \n",
      "                                                                                                  \n",
      " conv4_block6_out (Activation)  (None, 7, 7, 1024)   0           ['conv4_block6_add[0][0]']       \n",
      "                                                                                                  \n",
      " conv5_block1_1_conv (Conv2D)   (None, 4, 4, 512)    524800      ['conv4_block6_out[0][0]']       \n",
      "                                                                                                  \n",
      " conv5_block1_1_bn (BatchNormal  (None, 4, 4, 512)   2048        ['conv5_block1_1_conv[0][0]']    \n",
      " ization)                                                                                         \n",
      "                                                                                                  \n",
      " conv5_block1_1_relu (Activatio  (None, 4, 4, 512)   0           ['conv5_block1_1_bn[0][0]']      \n",
      " n)                                                                                               \n",
      "                                                                                                  \n",
      " conv5_block1_2_conv (Conv2D)   (None, 4, 4, 512)    2359808     ['conv5_block1_1_relu[0][0]']    \n",
      "                                                                                                  \n",
      " conv5_block1_2_bn (BatchNormal  (None, 4, 4, 512)   2048        ['conv5_block1_2_conv[0][0]']    \n",
      " ization)                                                                                         \n",
      "                                                                                                  \n",
      " conv5_block1_2_relu (Activatio  (None, 4, 4, 512)   0           ['conv5_block1_2_bn[0][0]']      \n",
      " n)                                                                                               \n",
      "                                                                                                  \n",
      " conv5_block1_0_conv (Conv2D)   (None, 4, 4, 2048)   2099200     ['conv4_block6_out[0][0]']       \n",
      "                                                                                                  \n",
      " conv5_block1_3_conv (Conv2D)   (None, 4, 4, 2048)   1050624     ['conv5_block1_2_relu[0][0]']    \n",
      "                                                                                                  \n",
      " conv5_block1_0_bn (BatchNormal  (None, 4, 4, 2048)  8192        ['conv5_block1_0_conv[0][0]']    \n",
      " ization)                                                                                         \n",
      "                                                                                                  \n",
      " conv5_block1_3_bn (BatchNormal  (None, 4, 4, 2048)  8192        ['conv5_block1_3_conv[0][0]']    \n",
      " ization)                                                                                         \n",
      "                                                                                                  \n",
      " conv5_block1_add (Add)         (None, 4, 4, 2048)   0           ['conv5_block1_0_bn[0][0]',      \n",
      "                                                                  'conv5_block1_3_bn[0][0]']      \n",
      "                                                                                                  \n",
      " conv5_block1_out (Activation)  (None, 4, 4, 2048)   0           ['conv5_block1_add[0][0]']       \n",
      "                                                                                                  \n",
      " conv5_block2_1_conv (Conv2D)   (None, 4, 4, 512)    1049088     ['conv5_block1_out[0][0]']       \n",
      "                                                                                                  \n",
      " conv5_block2_1_bn (BatchNormal  (None, 4, 4, 512)   2048        ['conv5_block2_1_conv[0][0]']    \n",
      " ization)                                                                                         \n",
      "                                                                                                  \n",
      " conv5_block2_1_relu (Activatio  (None, 4, 4, 512)   0           ['conv5_block2_1_bn[0][0]']      \n",
      " n)                                                                                               \n",
      "                                                                                                  \n",
      " conv5_block2_2_conv (Conv2D)   (None, 4, 4, 512)    2359808     ['conv5_block2_1_relu[0][0]']    \n",
      "                                                                                                  \n",
      " conv5_block2_2_bn (BatchNormal  (None, 4, 4, 512)   2048        ['conv5_block2_2_conv[0][0]']    \n",
      " ization)                                                                                         \n",
      "                                                                                                  \n"
     ]
    },
    {
     "name": "stdout",
     "output_type": "stream",
     "text": [
      " conv5_block2_2_relu (Activatio  (None, 4, 4, 512)   0           ['conv5_block2_2_bn[0][0]']      \n",
      " n)                                                                                               \n",
      "                                                                                                  \n",
      " conv5_block2_3_conv (Conv2D)   (None, 4, 4, 2048)   1050624     ['conv5_block2_2_relu[0][0]']    \n",
      "                                                                                                  \n",
      " conv5_block2_3_bn (BatchNormal  (None, 4, 4, 2048)  8192        ['conv5_block2_3_conv[0][0]']    \n",
      " ization)                                                                                         \n",
      "                                                                                                  \n",
      " conv5_block2_add (Add)         (None, 4, 4, 2048)   0           ['conv5_block1_out[0][0]',       \n",
      "                                                                  'conv5_block2_3_bn[0][0]']      \n",
      "                                                                                                  \n",
      " conv5_block2_out (Activation)  (None, 4, 4, 2048)   0           ['conv5_block2_add[0][0]']       \n",
      "                                                                                                  \n",
      " conv5_block3_1_conv (Conv2D)   (None, 4, 4, 512)    1049088     ['conv5_block2_out[0][0]']       \n",
      "                                                                                                  \n",
      " conv5_block3_1_bn (BatchNormal  (None, 4, 4, 512)   2048        ['conv5_block3_1_conv[0][0]']    \n",
      " ization)                                                                                         \n",
      "                                                                                                  \n",
      " conv5_block3_1_relu (Activatio  (None, 4, 4, 512)   0           ['conv5_block3_1_bn[0][0]']      \n",
      " n)                                                                                               \n",
      "                                                                                                  \n",
      " conv5_block3_2_conv (Conv2D)   (None, 4, 4, 512)    2359808     ['conv5_block3_1_relu[0][0]']    \n",
      "                                                                                                  \n",
      " conv5_block3_2_bn (BatchNormal  (None, 4, 4, 512)   2048        ['conv5_block3_2_conv[0][0]']    \n",
      " ization)                                                                                         \n",
      "                                                                                                  \n",
      " conv5_block3_2_relu (Activatio  (None, 4, 4, 512)   0           ['conv5_block3_2_bn[0][0]']      \n",
      " n)                                                                                               \n",
      "                                                                                                  \n",
      " conv5_block3_3_conv (Conv2D)   (None, 4, 4, 2048)   1050624     ['conv5_block3_2_relu[0][0]']    \n",
      "                                                                                                  \n",
      " conv5_block3_3_bn (BatchNormal  (None, 4, 4, 2048)  8192        ['conv5_block3_3_conv[0][0]']    \n",
      " ization)                                                                                         \n",
      "                                                                                                  \n",
      " conv5_block3_add (Add)         (None, 4, 4, 2048)   0           ['conv5_block2_out[0][0]',       \n",
      "                                                                  'conv5_block3_3_bn[0][0]']      \n",
      "                                                                                                  \n",
      " conv5_block3_out (Activation)  (None, 4, 4, 2048)   0           ['conv5_block3_add[0][0]']       \n",
      "                                                                                                  \n",
      "==================================================================================================\n",
      "Total params: 23,587,712\n",
      "Trainable params: 23,534,592\n",
      "Non-trainable params: 53,120\n",
      "__________________________________________________________________________________________________\n"
     ]
    }
   ],
   "source": [
    "base_model.summary()"
   ]
  },
  {
   "cell_type": "code",
   "execution_count": 23,
   "metadata": {
    "scrolled": true
   },
   "outputs": [
    {
     "name": "stdout",
     "output_type": "stream",
     "text": [
      "50/50 [==============================] - 8s 140ms/step\n"
     ]
    }
   ],
   "source": [
    "new_X = base_model.predict(X, batch_size=16)"
   ]
  },
  {
   "cell_type": "code",
   "execution_count": 24,
   "metadata": {},
   "outputs": [
    {
     "data": {
      "text/plain": [
       "(794, 4, 4, 2048)"
      ]
     },
     "execution_count": 24,
     "metadata": {},
     "output_type": "execute_result"
    }
   ],
   "source": [
    "new_X.shape"
   ]
  },
  {
   "cell_type": "code",
   "execution_count": 25,
   "metadata": {},
   "outputs": [],
   "source": [
    "#test\n",
    "X_test = np.reshape(new_X, (794, 4*4*2048))"
   ]
  },
  {
   "cell_type": "code",
   "execution_count": 27,
   "metadata": {},
   "outputs": [],
   "source": [
    "#unbalanced\n",
    "X_tf = np.reshape(new_X, (4750, 4*4*2048))"
   ]
  },
  {
   "cell_type": "code",
   "execution_count": 24,
   "metadata": {},
   "outputs": [],
   "source": [
    "# augmented\n",
    "X_tf = np.reshape(new_X, (8400, 4*4*2048))"
   ]
  },
  {
   "cell_type": "code",
   "execution_count": 25,
   "metadata": {},
   "outputs": [
    {
     "data": {
      "text/plain": [
       "(8400, 32768)"
      ]
     },
     "execution_count": 25,
     "metadata": {},
     "output_type": "execute_result"
    }
   ],
   "source": [
    "X_tf.shape"
   ]
  },
  {
   "cell_type": "code",
   "execution_count": 28,
   "metadata": {},
   "outputs": [],
   "source": [
    "X_conc = np.hstack((X_tf, X_raw))"
   ]
  },
  {
   "cell_type": "code",
   "execution_count": 29,
   "metadata": {},
   "outputs": [
    {
     "data": {
      "text/plain": [
       "(8400, 62768)"
      ]
     },
     "execution_count": 29,
     "metadata": {},
     "output_type": "execute_result"
    }
   ],
   "source": [
    "X_conc.shape"
   ]
  },
  {
   "cell_type": "code",
   "execution_count": 14,
   "metadata": {},
   "outputs": [
    {
     "data": {
      "text/plain": [
       "(794, 32768)"
      ]
     },
     "execution_count": 14,
     "metadata": {},
     "output_type": "execute_result"
    }
   ],
   "source": [
    "X_test.shape"
   ]
  },
  {
   "cell_type": "code",
   "execution_count": 30,
   "metadata": {},
   "outputs": [],
   "source": [
    "X_rew = np.reshape(np.array(pic_x)/255, (794, 100*100*3))"
   ]
  },
  {
   "cell_type": "code",
   "execution_count": 31,
   "metadata": {},
   "outputs": [],
   "source": [
    "X_testf = np.hstack((X_test, X_rew))"
   ]
  },
  {
   "cell_type": "code",
   "execution_count": 32,
   "metadata": {},
   "outputs": [
    {
     "data": {
      "text/plain": [
       "(794, 62768)"
      ]
     },
     "execution_count": 32,
     "metadata": {},
     "output_type": "execute_result"
    }
   ],
   "source": [
    "X_testf.shape"
   ]
  },
  {
   "cell_type": "markdown",
   "metadata": {},
   "source": [
    "# Array saving"
   ]
  },
  {
   "cell_type": "code",
   "execution_count": 32,
   "metadata": {},
   "outputs": [
    {
     "data": {
      "text/plain": [
       "array([6, 6, 6, ..., 3, 3, 3])"
      ]
     },
     "execution_count": 32,
     "metadata": {},
     "output_type": "execute_result"
    }
   ],
   "source": []
  },
  {
   "cell_type": "code",
   "execution_count": 33,
   "metadata": {},
   "outputs": [],
   "source": [
    "np.save('x_conc.pkl', X_conc)\n",
    "np.save('y.pkl', Y)"
   ]
  },
  {
   "cell_type": "code",
   "execution_count": 4,
   "metadata": {},
   "outputs": [],
   "source": [
    "X_conc = np.load('x_conc.pkl.npy')\n",
    "Y = np.load('y.pkl.npy')"
   ]
  },
  {
   "cell_type": "code",
   "execution_count": 5,
   "metadata": {},
   "outputs": [
    {
     "data": {
      "text/plain": [
       "((8400, 62768), (8400,))"
      ]
     },
     "execution_count": 5,
     "metadata": {},
     "output_type": "execute_result"
    }
   ],
   "source": [
    "X_conc.shape, Y.shape"
   ]
  },
  {
   "cell_type": "markdown",
   "metadata": {},
   "source": [
    "# Model Training"
   ]
  },
  {
   "cell_type": "code",
   "execution_count": 8,
   "metadata": {},
   "outputs": [],
   "source": [
    "clf = ltb.LGBMClassifier(random_state=seed, max_depth=10, objective='multiclass',\n",
    "                         min_child_samples=2, learning_rate=0.1, n_estimators=100, n_jobs=-1)"
   ]
  },
  {
   "cell_type": "code",
   "execution_count": 28,
   "metadata": {},
   "outputs": [
    {
     "data": {
      "text/html": [
       "<style>#sk-container-id-1 {color: black;background-color: white;}#sk-container-id-1 pre{padding: 0;}#sk-container-id-1 div.sk-toggleable {background-color: white;}#sk-container-id-1 label.sk-toggleable__label {cursor: pointer;display: block;width: 100%;margin-bottom: 0;padding: 0.3em;box-sizing: border-box;text-align: center;}#sk-container-id-1 label.sk-toggleable__label-arrow:before {content: \"▸\";float: left;margin-right: 0.25em;color: #696969;}#sk-container-id-1 label.sk-toggleable__label-arrow:hover:before {color: black;}#sk-container-id-1 div.sk-estimator:hover label.sk-toggleable__label-arrow:before {color: black;}#sk-container-id-1 div.sk-toggleable__content {max-height: 0;max-width: 0;overflow: hidden;text-align: left;background-color: #f0f8ff;}#sk-container-id-1 div.sk-toggleable__content pre {margin: 0.2em;color: black;border-radius: 0.25em;background-color: #f0f8ff;}#sk-container-id-1 input.sk-toggleable__control:checked~div.sk-toggleable__content {max-height: 200px;max-width: 100%;overflow: auto;}#sk-container-id-1 input.sk-toggleable__control:checked~label.sk-toggleable__label-arrow:before {content: \"▾\";}#sk-container-id-1 div.sk-estimator input.sk-toggleable__control:checked~label.sk-toggleable__label {background-color: #d4ebff;}#sk-container-id-1 div.sk-label input.sk-toggleable__control:checked~label.sk-toggleable__label {background-color: #d4ebff;}#sk-container-id-1 input.sk-hidden--visually {border: 0;clip: rect(1px 1px 1px 1px);clip: rect(1px, 1px, 1px, 1px);height: 1px;margin: -1px;overflow: hidden;padding: 0;position: absolute;width: 1px;}#sk-container-id-1 div.sk-estimator {font-family: monospace;background-color: #f0f8ff;border: 1px dotted black;border-radius: 0.25em;box-sizing: border-box;margin-bottom: 0.5em;}#sk-container-id-1 div.sk-estimator:hover {background-color: #d4ebff;}#sk-container-id-1 div.sk-parallel-item::after {content: \"\";width: 100%;border-bottom: 1px solid gray;flex-grow: 1;}#sk-container-id-1 div.sk-label:hover label.sk-toggleable__label {background-color: #d4ebff;}#sk-container-id-1 div.sk-serial::before {content: \"\";position: absolute;border-left: 1px solid gray;box-sizing: border-box;top: 0;bottom: 0;left: 50%;z-index: 0;}#sk-container-id-1 div.sk-serial {display: flex;flex-direction: column;align-items: center;background-color: white;padding-right: 0.2em;padding-left: 0.2em;position: relative;}#sk-container-id-1 div.sk-item {position: relative;z-index: 1;}#sk-container-id-1 div.sk-parallel {display: flex;align-items: stretch;justify-content: center;background-color: white;position: relative;}#sk-container-id-1 div.sk-item::before, #sk-container-id-1 div.sk-parallel-item::before {content: \"\";position: absolute;border-left: 1px solid gray;box-sizing: border-box;top: 0;bottom: 0;left: 50%;z-index: -1;}#sk-container-id-1 div.sk-parallel-item {display: flex;flex-direction: column;z-index: 1;position: relative;background-color: white;}#sk-container-id-1 div.sk-parallel-item:first-child::after {align-self: flex-end;width: 50%;}#sk-container-id-1 div.sk-parallel-item:last-child::after {align-self: flex-start;width: 50%;}#sk-container-id-1 div.sk-parallel-item:only-child::after {width: 0;}#sk-container-id-1 div.sk-dashed-wrapped {border: 1px dashed gray;margin: 0 0.4em 0.5em 0.4em;box-sizing: border-box;padding-bottom: 0.4em;background-color: white;}#sk-container-id-1 div.sk-label label {font-family: monospace;font-weight: bold;display: inline-block;line-height: 1.2em;}#sk-container-id-1 div.sk-label-container {text-align: center;}#sk-container-id-1 div.sk-container {/* jupyter's `normalize.less` sets `[hidden] { display: none; }` but bootstrap.min.css set `[hidden] { display: none !important; }` so we also need the `!important` here to be able to override the default hidden behavior on the sphinx rendered scikit-learn.org. See: https://github.com/scikit-learn/scikit-learn/issues/21755 */display: inline-block !important;position: relative;}#sk-container-id-1 div.sk-text-repr-fallback {display: none;}</style><div id=\"sk-container-id-1\" class=\"sk-top-container\"><div class=\"sk-text-repr-fallback\"><pre>LGBMClassifier(max_depth=10, min_child_samples=2, objective=&#x27;multiclass&#x27;,\n",
       "               random_state=0)</pre><b>In a Jupyter environment, please rerun this cell to show the HTML representation or trust the notebook. <br />On GitHub, the HTML representation is unable to render, please try loading this page with nbviewer.org.</b></div><div class=\"sk-container\" hidden><div class=\"sk-item\"><div class=\"sk-estimator sk-toggleable\"><input class=\"sk-toggleable__control sk-hidden--visually\" id=\"sk-estimator-id-1\" type=\"checkbox\" checked><label for=\"sk-estimator-id-1\" class=\"sk-toggleable__label sk-toggleable__label-arrow\">LGBMClassifier</label><div class=\"sk-toggleable__content\"><pre>LGBMClassifier(max_depth=10, min_child_samples=2, objective=&#x27;multiclass&#x27;,\n",
       "               random_state=0)</pre></div></div></div></div></div>"
      ],
      "text/plain": [
       "LGBMClassifier(max_depth=10, min_child_samples=2, objective='multiclass',\n",
       "               random_state=0)"
      ]
     },
     "execution_count": 28,
     "metadata": {},
     "output_type": "execute_result"
    }
   ],
   "source": [
    "clf.fit(X_tf, Y)"
   ]
  },
  {
   "cell_type": "code",
   "execution_count": 9,
   "metadata": {},
   "outputs": [
    {
     "data": {
      "text/html": [
       "<style>#sk-container-id-1 {color: black;background-color: white;}#sk-container-id-1 pre{padding: 0;}#sk-container-id-1 div.sk-toggleable {background-color: white;}#sk-container-id-1 label.sk-toggleable__label {cursor: pointer;display: block;width: 100%;margin-bottom: 0;padding: 0.3em;box-sizing: border-box;text-align: center;}#sk-container-id-1 label.sk-toggleable__label-arrow:before {content: \"▸\";float: left;margin-right: 0.25em;color: #696969;}#sk-container-id-1 label.sk-toggleable__label-arrow:hover:before {color: black;}#sk-container-id-1 div.sk-estimator:hover label.sk-toggleable__label-arrow:before {color: black;}#sk-container-id-1 div.sk-toggleable__content {max-height: 0;max-width: 0;overflow: hidden;text-align: left;background-color: #f0f8ff;}#sk-container-id-1 div.sk-toggleable__content pre {margin: 0.2em;color: black;border-radius: 0.25em;background-color: #f0f8ff;}#sk-container-id-1 input.sk-toggleable__control:checked~div.sk-toggleable__content {max-height: 200px;max-width: 100%;overflow: auto;}#sk-container-id-1 input.sk-toggleable__control:checked~label.sk-toggleable__label-arrow:before {content: \"▾\";}#sk-container-id-1 div.sk-estimator input.sk-toggleable__control:checked~label.sk-toggleable__label {background-color: #d4ebff;}#sk-container-id-1 div.sk-label input.sk-toggleable__control:checked~label.sk-toggleable__label {background-color: #d4ebff;}#sk-container-id-1 input.sk-hidden--visually {border: 0;clip: rect(1px 1px 1px 1px);clip: rect(1px, 1px, 1px, 1px);height: 1px;margin: -1px;overflow: hidden;padding: 0;position: absolute;width: 1px;}#sk-container-id-1 div.sk-estimator {font-family: monospace;background-color: #f0f8ff;border: 1px dotted black;border-radius: 0.25em;box-sizing: border-box;margin-bottom: 0.5em;}#sk-container-id-1 div.sk-estimator:hover {background-color: #d4ebff;}#sk-container-id-1 div.sk-parallel-item::after {content: \"\";width: 100%;border-bottom: 1px solid gray;flex-grow: 1;}#sk-container-id-1 div.sk-label:hover label.sk-toggleable__label {background-color: #d4ebff;}#sk-container-id-1 div.sk-serial::before {content: \"\";position: absolute;border-left: 1px solid gray;box-sizing: border-box;top: 0;bottom: 0;left: 50%;z-index: 0;}#sk-container-id-1 div.sk-serial {display: flex;flex-direction: column;align-items: center;background-color: white;padding-right: 0.2em;padding-left: 0.2em;position: relative;}#sk-container-id-1 div.sk-item {position: relative;z-index: 1;}#sk-container-id-1 div.sk-parallel {display: flex;align-items: stretch;justify-content: center;background-color: white;position: relative;}#sk-container-id-1 div.sk-item::before, #sk-container-id-1 div.sk-parallel-item::before {content: \"\";position: absolute;border-left: 1px solid gray;box-sizing: border-box;top: 0;bottom: 0;left: 50%;z-index: -1;}#sk-container-id-1 div.sk-parallel-item {display: flex;flex-direction: column;z-index: 1;position: relative;background-color: white;}#sk-container-id-1 div.sk-parallel-item:first-child::after {align-self: flex-end;width: 50%;}#sk-container-id-1 div.sk-parallel-item:last-child::after {align-self: flex-start;width: 50%;}#sk-container-id-1 div.sk-parallel-item:only-child::after {width: 0;}#sk-container-id-1 div.sk-dashed-wrapped {border: 1px dashed gray;margin: 0 0.4em 0.5em 0.4em;box-sizing: border-box;padding-bottom: 0.4em;background-color: white;}#sk-container-id-1 div.sk-label label {font-family: monospace;font-weight: bold;display: inline-block;line-height: 1.2em;}#sk-container-id-1 div.sk-label-container {text-align: center;}#sk-container-id-1 div.sk-container {/* jupyter's `normalize.less` sets `[hidden] { display: none; }` but bootstrap.min.css set `[hidden] { display: none !important; }` so we also need the `!important` here to be able to override the default hidden behavior on the sphinx rendered scikit-learn.org. See: https://github.com/scikit-learn/scikit-learn/issues/21755 */display: inline-block !important;position: relative;}#sk-container-id-1 div.sk-text-repr-fallback {display: none;}</style><div id=\"sk-container-id-1\" class=\"sk-top-container\"><div class=\"sk-text-repr-fallback\"><pre>LGBMClassifier(max_depth=10, min_child_samples=2, objective=&#x27;multiclass&#x27;,\n",
       "               random_state=0)</pre><b>In a Jupyter environment, please rerun this cell to show the HTML representation or trust the notebook. <br />On GitHub, the HTML representation is unable to render, please try loading this page with nbviewer.org.</b></div><div class=\"sk-container\" hidden><div class=\"sk-item\"><div class=\"sk-estimator sk-toggleable\"><input class=\"sk-toggleable__control sk-hidden--visually\" id=\"sk-estimator-id-1\" type=\"checkbox\" checked><label for=\"sk-estimator-id-1\" class=\"sk-toggleable__label sk-toggleable__label-arrow\">LGBMClassifier</label><div class=\"sk-toggleable__content\"><pre>LGBMClassifier(max_depth=10, min_child_samples=2, objective=&#x27;multiclass&#x27;,\n",
       "               random_state=0)</pre></div></div></div></div></div>"
      ],
      "text/plain": [
       "LGBMClassifier(max_depth=10, min_child_samples=2, objective='multiclass',\n",
       "               random_state=0)"
      ]
     },
     "execution_count": 9,
     "metadata": {},
     "output_type": "execute_result"
    }
   ],
   "source": [
    "clf.fit(X_conc, Y)"
   ]
  },
  {
   "cell_type": "code",
   "execution_count": 10,
   "metadata": {},
   "outputs": [
    {
     "data": {
      "text/plain": [
       "['gbm_aug3.pkl']"
      ]
     },
     "execution_count": 10,
     "metadata": {},
     "output_type": "execute_result"
    }
   ],
   "source": [
    "joblib.dump(clf, 'gbm_aug3.pkl')"
   ]
  },
  {
   "cell_type": "code",
   "execution_count": 30,
   "metadata": {},
   "outputs": [
    {
     "data": {
      "text/plain": [
       "['le.pkl']"
      ]
     },
     "execution_count": 30,
     "metadata": {},
     "output_type": "execute_result"
    }
   ],
   "source": [
    "joblib.dump(le, 'le.pkl')"
   ]
  },
  {
   "cell_type": "markdown",
   "metadata": {},
   "source": [
    "# Test dataset tricks"
   ]
  },
  {
   "cell_type": "code",
   "execution_count": 15,
   "metadata": {},
   "outputs": [],
   "source": [
    "clf = joblib.load('gbm_aug.pkl')"
   ]
  },
  {
   "cell_type": "code",
   "execution_count": 11,
   "metadata": {},
   "outputs": [],
   "source": [
    "le = joblib.load('le.pkl')"
   ]
  },
  {
   "cell_type": "code",
   "execution_count": 33,
   "metadata": {},
   "outputs": [],
   "source": [
    "labels = clf.predict(X_testf)"
   ]
  },
  {
   "cell_type": "code",
   "execution_count": 34,
   "metadata": {},
   "outputs": [],
   "source": [
    "Y = le.inverse_transform(labels)"
   ]
  },
  {
   "cell_type": "code",
   "execution_count": 35,
   "metadata": {},
   "outputs": [
    {
     "data": {
      "text/plain": [
       "array(['Common wheat', 'Small-flowered Cranesbill', 'Fat Hen',\n",
       "       'Common Chickweed', 'Sugar beet', 'Fat Hen', 'Cleavers',\n",
       "       'Black-grass', 'Scentless Mayweed', 'Small-flowered Cranesbill',\n",
       "       'Loose Silky-bent', 'Small-flowered Cranesbill',\n",
       "       'Common Chickweed', 'Maize', 'Black-grass', 'Fat Hen',\n",
       "       'Black-grass', 'Common Chickweed', 'Loose Silky-bent', 'Maize',\n",
       "       'Fat Hen', 'Maize', 'Small-flowered Cranesbill', 'Charlock',\n",
       "       'Scentless Mayweed', 'Fat Hen', 'Shepherds Purse',\n",
       "       'Loose Silky-bent', 'Common Chickweed', 'Cleavers', 'Maize',\n",
       "       'Maize', 'Loose Silky-bent', 'Small-flowered Cranesbill',\n",
       "       'Common Chickweed', 'Loose Silky-bent', 'Common Chickweed',\n",
       "       'Fat Hen', 'Charlock', 'Scentless Mayweed', 'Charlock',\n",
       "       'Common Chickweed', 'Shepherds Purse', 'Charlock', 'Charlock',\n",
       "       'Cleavers', 'Maize', 'Charlock', 'Common Chickweed', 'Sugar beet',\n",
       "       'Common Chickweed', 'Fat Hen', 'Loose Silky-bent', 'Fat Hen',\n",
       "       'Charlock', 'Common wheat', 'Small-flowered Cranesbill',\n",
       "       'Scentless Mayweed', 'Scentless Mayweed', 'Scentless Mayweed',\n",
       "       'Fat Hen', 'Black-grass', 'Small-flowered Cranesbill',\n",
       "       'Sugar beet', 'Fat Hen', 'Common Chickweed', 'Scentless Mayweed',\n",
       "       'Charlock', 'Fat Hen', 'Common Chickweed', 'Black-grass',\n",
       "       'Fat Hen', 'Common wheat', 'Small-flowered Cranesbill',\n",
       "       'Scentless Mayweed', 'Common wheat', 'Charlock',\n",
       "       'Scentless Mayweed', 'Small-flowered Cranesbill',\n",
       "       'Small-flowered Cranesbill', 'Fat Hen', 'Loose Silky-bent',\n",
       "       'Shepherds Purse', 'Sugar beet', 'Common wheat',\n",
       "       'Loose Silky-bent', 'Charlock', 'Maize', 'Sugar beet',\n",
       "       'Scentless Mayweed', 'Common Chickweed', 'Maize',\n",
       "       'Scentless Mayweed', 'Loose Silky-bent',\n",
       "       'Small-flowered Cranesbill', 'Loose Silky-bent',\n",
       "       'Small-flowered Cranesbill', 'Scentless Mayweed', 'Maize',\n",
       "       'Shepherds Purse', 'Sugar beet', 'Maize', 'Common Chickweed',\n",
       "       'Loose Silky-bent', 'Common wheat', 'Sugar beet', 'Sugar beet',\n",
       "       'Shepherds Purse', 'Scentless Mayweed', 'Cleavers',\n",
       "       'Loose Silky-bent', 'Scentless Mayweed',\n",
       "       'Small-flowered Cranesbill', 'Sugar beet', 'Charlock',\n",
       "       'Black-grass', 'Loose Silky-bent', 'Black-grass',\n",
       "       'Loose Silky-bent', 'Loose Silky-bent', 'Fat Hen', 'Charlock',\n",
       "       'Scentless Mayweed', 'Loose Silky-bent', 'Sugar beet', 'Fat Hen',\n",
       "       'Small-flowered Cranesbill', 'Loose Silky-bent',\n",
       "       'Small-flowered Cranesbill', 'Cleavers', 'Loose Silky-bent',\n",
       "       'Shepherds Purse', 'Common Chickweed', 'Small-flowered Cranesbill',\n",
       "       'Loose Silky-bent', 'Small-flowered Cranesbill', 'Cleavers',\n",
       "       'Small-flowered Cranesbill', 'Loose Silky-bent',\n",
       "       'Loose Silky-bent', 'Shepherds Purse', 'Black-grass',\n",
       "       'Common Chickweed', 'Loose Silky-bent', 'Shepherds Purse',\n",
       "       'Small-flowered Cranesbill', 'Fat Hen', 'Maize',\n",
       "       'Loose Silky-bent', 'Sugar beet', 'Common Chickweed',\n",
       "       'Scentless Mayweed', 'Black-grass', 'Common Chickweed',\n",
       "       'Loose Silky-bent', 'Scentless Mayweed', 'Charlock',\n",
       "       'Shepherds Purse', 'Shepherds Purse', 'Cleavers', 'Sugar beet',\n",
       "       'Charlock', 'Fat Hen', 'Loose Silky-bent', 'Loose Silky-bent',\n",
       "       'Sugar beet', 'Scentless Mayweed', 'Loose Silky-bent',\n",
       "       'Scentless Mayweed', 'Charlock', 'Common Chickweed',\n",
       "       'Scentless Mayweed', 'Cleavers', 'Charlock', 'Cleavers',\n",
       "       'Cleavers', 'Common Chickweed', 'Small-flowered Cranesbill',\n",
       "       'Sugar beet', 'Black-grass', 'Fat Hen', 'Shepherds Purse',\n",
       "       'Common wheat', 'Charlock', 'Cleavers',\n",
       "       'Small-flowered Cranesbill', 'Maize', 'Small-flowered Cranesbill',\n",
       "       'Shepherds Purse', 'Black-grass', 'Shepherds Purse', 'Fat Hen',\n",
       "       'Scentless Mayweed', 'Fat Hen', 'Black-grass', 'Scentless Mayweed',\n",
       "       'Loose Silky-bent', 'Loose Silky-bent', 'Loose Silky-bent',\n",
       "       'Small-flowered Cranesbill', 'Fat Hen', 'Charlock', 'Sugar beet',\n",
       "       'Cleavers', 'Loose Silky-bent', 'Black-grass', 'Sugar beet',\n",
       "       'Charlock', 'Common wheat', 'Common wheat', 'Loose Silky-bent',\n",
       "       'Sugar beet', 'Small-flowered Cranesbill', 'Common Chickweed',\n",
       "       'Scentless Mayweed', 'Charlock', 'Fat Hen', 'Sugar beet',\n",
       "       'Common Chickweed', 'Shepherds Purse', 'Scentless Mayweed',\n",
       "       'Shepherds Purse', 'Common Chickweed', 'Common wheat',\n",
       "       'Black-grass', 'Cleavers', 'Common Chickweed', 'Fat Hen',\n",
       "       'Fat Hen', 'Loose Silky-bent', 'Scentless Mayweed',\n",
       "       'Common Chickweed', 'Loose Silky-bent', 'Sugar beet',\n",
       "       'Common Chickweed', 'Fat Hen', 'Scentless Mayweed', 'Black-grass',\n",
       "       'Loose Silky-bent', 'Common Chickweed', 'Common Chickweed',\n",
       "       'Fat Hen', 'Black-grass', 'Sugar beet', 'Sugar beet', 'Sugar beet',\n",
       "       'Cleavers', 'Scentless Mayweed', 'Common Chickweed', 'Cleavers',\n",
       "       'Small-flowered Cranesbill', 'Fat Hen', 'Common Chickweed',\n",
       "       'Loose Silky-bent', 'Shepherds Purse', 'Scentless Mayweed',\n",
       "       'Sugar beet', 'Common wheat', 'Shepherds Purse',\n",
       "       'Common Chickweed', 'Common wheat', 'Shepherds Purse',\n",
       "       'Common wheat', 'Fat Hen', 'Loose Silky-bent', 'Black-grass',\n",
       "       'Small-flowered Cranesbill', 'Scentless Mayweed',\n",
       "       'Loose Silky-bent', 'Cleavers', 'Scentless Mayweed',\n",
       "       'Common wheat', 'Loose Silky-bent', 'Maize', 'Fat Hen',\n",
       "       'Loose Silky-bent', 'Scentless Mayweed', 'Shepherds Purse',\n",
       "       'Sugar beet', 'Shepherds Purse', 'Loose Silky-bent', 'Black-grass',\n",
       "       'Fat Hen', 'Shepherds Purse', 'Scentless Mayweed',\n",
       "       'Shepherds Purse', 'Shepherds Purse', 'Small-flowered Cranesbill',\n",
       "       'Charlock', 'Fat Hen', 'Black-grass', 'Small-flowered Cranesbill',\n",
       "       'Black-grass', 'Cleavers', 'Cleavers', 'Common Chickweed',\n",
       "       'Fat Hen', 'Maize', 'Common Chickweed', 'Scentless Mayweed',\n",
       "       'Small-flowered Cranesbill', 'Common Chickweed',\n",
       "       'Small-flowered Cranesbill', 'Loose Silky-bent', 'Fat Hen',\n",
       "       'Common Chickweed', 'Charlock', 'Loose Silky-bent',\n",
       "       'Common Chickweed', 'Fat Hen', 'Charlock', 'Fat Hen',\n",
       "       'Small-flowered Cranesbill', 'Common wheat', 'Black-grass',\n",
       "       'Sugar beet', 'Sugar beet', 'Cleavers', 'Cleavers',\n",
       "       'Shepherds Purse', 'Small-flowered Cranesbill', 'Common wheat',\n",
       "       'Common Chickweed', 'Common Chickweed', 'Shepherds Purse',\n",
       "       'Loose Silky-bent', 'Scentless Mayweed', 'Shepherds Purse',\n",
       "       'Common wheat', 'Loose Silky-bent', 'Black-grass',\n",
       "       'Shepherds Purse', 'Sugar beet', 'Loose Silky-bent',\n",
       "       'Small-flowered Cranesbill', 'Black-grass', 'Charlock', 'Cleavers',\n",
       "       'Charlock', 'Black-grass', 'Cleavers', 'Black-grass',\n",
       "       'Loose Silky-bent', 'Small-flowered Cranesbill',\n",
       "       'Small-flowered Cranesbill', 'Loose Silky-bent',\n",
       "       'Scentless Mayweed', 'Charlock', 'Loose Silky-bent',\n",
       "       'Small-flowered Cranesbill', 'Common Chickweed',\n",
       "       'Small-flowered Cranesbill', 'Sugar beet', 'Sugar beet',\n",
       "       'Common Chickweed', 'Loose Silky-bent', 'Scentless Mayweed',\n",
       "       'Loose Silky-bent', 'Scentless Mayweed', 'Scentless Mayweed',\n",
       "       'Sugar beet', 'Common Chickweed', 'Common Chickweed',\n",
       "       'Common Chickweed', 'Sugar beet', 'Black-grass', 'Shepherds Purse',\n",
       "       'Small-flowered Cranesbill', 'Small-flowered Cranesbill',\n",
       "       'Small-flowered Cranesbill', 'Loose Silky-bent', 'Sugar beet',\n",
       "       'Sugar beet', 'Loose Silky-bent', 'Maize', 'Common wheat',\n",
       "       'Black-grass', 'Scentless Mayweed', 'Loose Silky-bent',\n",
       "       'Sugar beet', 'Loose Silky-bent', 'Small-flowered Cranesbill',\n",
       "       'Small-flowered Cranesbill', 'Scentless Mayweed', 'Cleavers',\n",
       "       'Black-grass', 'Black-grass', 'Common Chickweed',\n",
       "       'Small-flowered Cranesbill', 'Small-flowered Cranesbill',\n",
       "       'Scentless Mayweed', 'Maize', 'Scentless Mayweed', 'Cleavers',\n",
       "       'Scentless Mayweed', 'Charlock', 'Scentless Mayweed',\n",
       "       'Shepherds Purse', 'Loose Silky-bent', 'Small-flowered Cranesbill',\n",
       "       'Cleavers', 'Common wheat', 'Small-flowered Cranesbill',\n",
       "       'Shepherds Purse', 'Maize', 'Small-flowered Cranesbill',\n",
       "       'Scentless Mayweed', 'Fat Hen', 'Common Chickweed', 'Charlock',\n",
       "       'Sugar beet', 'Scentless Mayweed', 'Sugar beet', 'Sugar beet',\n",
       "       'Maize', 'Shepherds Purse', 'Small-flowered Cranesbill',\n",
       "       'Black-grass', 'Shepherds Purse', 'Common wheat',\n",
       "       'Shepherds Purse', 'Common Chickweed', 'Scentless Mayweed',\n",
       "       'Scentless Mayweed', 'Sugar beet', 'Scentless Mayweed',\n",
       "       'Black-grass', 'Shepherds Purse', 'Common wheat',\n",
       "       'Small-flowered Cranesbill', 'Small-flowered Cranesbill',\n",
       "       'Shepherds Purse', 'Common Chickweed', 'Small-flowered Cranesbill',\n",
       "       'Common Chickweed', 'Loose Silky-bent', 'Common Chickweed',\n",
       "       'Scentless Mayweed', 'Small-flowered Cranesbill', 'Fat Hen',\n",
       "       'Shepherds Purse', 'Scentless Mayweed', 'Loose Silky-bent',\n",
       "       'Black-grass', 'Scentless Mayweed', 'Cleavers', 'Maize',\n",
       "       'Shepherds Purse', 'Maize', 'Small-flowered Cranesbill',\n",
       "       'Small-flowered Cranesbill', 'Scentless Mayweed', 'Sugar beet',\n",
       "       'Loose Silky-bent', 'Black-grass', 'Loose Silky-bent', 'Maize',\n",
       "       'Sugar beet', 'Black-grass', 'Common Chickweed',\n",
       "       'Small-flowered Cranesbill', 'Loose Silky-bent',\n",
       "       'Small-flowered Cranesbill', 'Maize', 'Charlock',\n",
       "       'Common Chickweed', 'Charlock', 'Charlock', 'Loose Silky-bent',\n",
       "       'Sugar beet', 'Small-flowered Cranesbill', 'Common wheat', 'Maize',\n",
       "       'Shepherds Purse', 'Scentless Mayweed', 'Scentless Mayweed',\n",
       "       'Charlock', 'Shepherds Purse', 'Loose Silky-bent',\n",
       "       'Loose Silky-bent', 'Common Chickweed', 'Black-grass',\n",
       "       'Scentless Mayweed', 'Black-grass', 'Common wheat',\n",
       "       'Shepherds Purse', 'Cleavers', 'Fat Hen', 'Maize',\n",
       "       'Loose Silky-bent', 'Maize', 'Charlock',\n",
       "       'Small-flowered Cranesbill', 'Maize', 'Sugar beet', 'Charlock',\n",
       "       'Fat Hen', 'Loose Silky-bent', 'Charlock', 'Cleavers',\n",
       "       'Shepherds Purse', 'Common Chickweed', 'Common Chickweed',\n",
       "       'Small-flowered Cranesbill', 'Cleavers', 'Common Chickweed',\n",
       "       'Common Chickweed', 'Scentless Mayweed', 'Loose Silky-bent',\n",
       "       'Small-flowered Cranesbill', 'Scentless Mayweed', 'Black-grass',\n",
       "       'Maize', 'Black-grass', 'Fat Hen', 'Black-grass', 'Maize',\n",
       "       'Scentless Mayweed', 'Fat Hen', 'Common wheat', 'Common Chickweed',\n",
       "       'Maize', 'Sugar beet', 'Charlock', 'Loose Silky-bent',\n",
       "       'Shepherds Purse', 'Loose Silky-bent', 'Common wheat',\n",
       "       'Shepherds Purse', 'Loose Silky-bent', 'Scentless Mayweed',\n",
       "       'Sugar beet', 'Sugar beet', 'Small-flowered Cranesbill',\n",
       "       'Charlock', 'Fat Hen', 'Fat Hen', 'Common Chickweed',\n",
       "       'Scentless Mayweed', 'Cleavers', 'Small-flowered Cranesbill',\n",
       "       'Common Chickweed', 'Charlock', 'Sugar beet', 'Loose Silky-bent',\n",
       "       'Black-grass', 'Charlock', 'Common wheat', 'Loose Silky-bent',\n",
       "       'Common Chickweed', 'Sugar beet', 'Black-grass', 'Shepherds Purse',\n",
       "       'Black-grass', 'Loose Silky-bent', 'Scentless Mayweed', 'Cleavers',\n",
       "       'Common Chickweed', 'Sugar beet', 'Scentless Mayweed',\n",
       "       'Scentless Mayweed', 'Loose Silky-bent', 'Common wheat',\n",
       "       'Shepherds Purse', 'Sugar beet', 'Fat Hen', 'Scentless Mayweed',\n",
       "       'Cleavers', 'Common wheat', 'Sugar beet', 'Common Chickweed',\n",
       "       'Black-grass', 'Cleavers', 'Charlock', 'Scentless Mayweed',\n",
       "       'Sugar beet', 'Charlock', 'Loose Silky-bent', 'Loose Silky-bent',\n",
       "       'Sugar beet', 'Fat Hen', 'Cleavers', 'Fat Hen', 'Charlock',\n",
       "       'Small-flowered Cranesbill', 'Fat Hen', 'Common wheat',\n",
       "       'Sugar beet', 'Loose Silky-bent', 'Cleavers', 'Loose Silky-bent',\n",
       "       'Loose Silky-bent', 'Scentless Mayweed', 'Loose Silky-bent',\n",
       "       'Scentless Mayweed', 'Scentless Mayweed', 'Scentless Mayweed',\n",
       "       'Shepherds Purse', 'Sugar beet', 'Loose Silky-bent',\n",
       "       'Scentless Mayweed', 'Scentless Mayweed', 'Scentless Mayweed',\n",
       "       'Common Chickweed', 'Charlock', 'Cleavers',\n",
       "       'Small-flowered Cranesbill', 'Common wheat', 'Scentless Mayweed',\n",
       "       'Scentless Mayweed', 'Small-flowered Cranesbill', 'Fat Hen',\n",
       "       'Common Chickweed', 'Sugar beet', 'Black-grass', 'Common wheat',\n",
       "       'Maize', 'Fat Hen', 'Charlock', 'Cleavers', 'Maize', 'Fat Hen',\n",
       "       'Charlock', 'Sugar beet', 'Sugar beet', 'Loose Silky-bent',\n",
       "       'Scentless Mayweed', 'Fat Hen', 'Common wheat', 'Shepherds Purse',\n",
       "       'Sugar beet', 'Cleavers', 'Sugar beet', 'Cleavers',\n",
       "       'Common Chickweed', 'Fat Hen', 'Common Chickweed',\n",
       "       'Common Chickweed', 'Common Chickweed',\n",
       "       'Small-flowered Cranesbill', 'Common wheat', 'Shepherds Purse',\n",
       "       'Small-flowered Cranesbill', 'Charlock', 'Loose Silky-bent',\n",
       "       'Scentless Mayweed', 'Maize', 'Fat Hen', 'Loose Silky-bent',\n",
       "       'Loose Silky-bent', 'Cleavers', 'Maize', 'Charlock', 'Sugar beet',\n",
       "       'Common Chickweed', 'Scentless Mayweed', 'Fat Hen',\n",
       "       'Shepherds Purse', 'Loose Silky-bent', 'Fat Hen',\n",
       "       'Loose Silky-bent', 'Fat Hen', 'Fat Hen', 'Scentless Mayweed',\n",
       "       'Cleavers', 'Fat Hen', 'Small-flowered Cranesbill', 'Black-grass',\n",
       "       'Sugar beet', 'Small-flowered Cranesbill', 'Shepherds Purse',\n",
       "       'Common wheat', 'Sugar beet', 'Small-flowered Cranesbill',\n",
       "       'Small-flowered Cranesbill', 'Shepherds Purse', 'Common Chickweed',\n",
       "       'Charlock', 'Maize', 'Charlock', 'Common Chickweed',\n",
       "       'Loose Silky-bent', 'Common wheat', 'Loose Silky-bent',\n",
       "       'Loose Silky-bent', 'Loose Silky-bent', 'Loose Silky-bent',\n",
       "       'Shepherds Purse', 'Cleavers', 'Small-flowered Cranesbill',\n",
       "       'Shepherds Purse', 'Charlock', 'Scentless Mayweed', 'Black-grass',\n",
       "       'Fat Hen', 'Shepherds Purse', 'Common wheat', 'Loose Silky-bent',\n",
       "       'Loose Silky-bent', 'Sugar beet', 'Sugar beet', 'Loose Silky-bent',\n",
       "       'Common Chickweed', 'Black-grass', 'Common Chickweed', 'Fat Hen',\n",
       "       'Maize', 'Common Chickweed', 'Sugar beet',\n",
       "       'Small-flowered Cranesbill', 'Shepherds Purse',\n",
       "       'Scentless Mayweed', 'Common Chickweed',\n",
       "       'Small-flowered Cranesbill', 'Sugar beet', 'Common Chickweed',\n",
       "       'Scentless Mayweed', 'Common wheat', 'Common Chickweed', 'Fat Hen',\n",
       "       'Loose Silky-bent', 'Small-flowered Cranesbill', 'Black-grass',\n",
       "       'Common Chickweed', 'Loose Silky-bent', 'Sugar beet',\n",
       "       'Common wheat', 'Common wheat', 'Common Chickweed',\n",
       "       'Common Chickweed', 'Sugar beet', 'Small-flowered Cranesbill',\n",
       "       'Shepherds Purse', 'Fat Hen', 'Scentless Mayweed', 'Cleavers',\n",
       "       'Sugar beet', 'Sugar beet', 'Common Chickweed', 'Loose Silky-bent',\n",
       "       'Cleavers', 'Small-flowered Cranesbill', 'Cleavers',\n",
       "       'Loose Silky-bent', 'Charlock', 'Cleavers', 'Maize',\n",
       "       'Loose Silky-bent', 'Loose Silky-bent', 'Charlock',\n",
       "       'Scentless Mayweed', 'Cleavers', 'Scentless Mayweed',\n",
       "       'Small-flowered Cranesbill', 'Shepherds Purse', 'Charlock',\n",
       "       'Sugar beet', 'Loose Silky-bent', 'Small-flowered Cranesbill',\n",
       "       'Loose Silky-bent', 'Small-flowered Cranesbill',\n",
       "       'Common Chickweed', 'Cleavers', 'Small-flowered Cranesbill',\n",
       "       'Charlock', 'Fat Hen', 'Loose Silky-bent', 'Black-grass',\n",
       "       'Common Chickweed', 'Small-flowered Cranesbill', 'Fat Hen',\n",
       "       'Loose Silky-bent', 'Shepherds Purse', 'Scentless Mayweed',\n",
       "       'Sugar beet', 'Scentless Mayweed', 'Black-grass',\n",
       "       'Small-flowered Cranesbill', 'Cleavers', 'Fat Hen', 'Cleavers',\n",
       "       'Scentless Mayweed', 'Common Chickweed', 'Black-grass', 'Maize',\n",
       "       'Fat Hen', 'Cleavers', 'Scentless Mayweed', 'Charlock',\n",
       "       'Common wheat', 'Shepherds Purse', 'Small-flowered Cranesbill',\n",
       "       'Charlock', 'Loose Silky-bent'], dtype=object)"
      ]
     },
     "execution_count": 35,
     "metadata": {},
     "output_type": "execute_result"
    }
   ],
   "source": [
    "Y"
   ]
  },
  {
   "cell_type": "code",
   "execution_count": 36,
   "metadata": {},
   "outputs": [],
   "source": [
    "df = pd.DataFrame({'file': pic_xname,\n",
    "                  'species': Y})"
   ]
  },
  {
   "cell_type": "code",
   "execution_count": 38,
   "metadata": {},
   "outputs": [],
   "source": [
    "df.to_csv('test_result3.csv', index=False)"
   ]
  },
  {
   "cell_type": "markdown",
   "metadata": {},
   "source": [
    "# Model Testing"
   ]
  },
  {
   "cell_type": "code",
   "execution_count": 38,
   "metadata": {
    "id": "nRu32FFQzLEl"
   },
   "outputs": [],
   "source": [
    "clf = SVC(random_state=seed, C=100, kernel='rbf', degree=1)\n",
    "scores = cross_val_score(clf, X_tf, Y, scoring='f1_micro', cv=4)"
   ]
  },
  {
   "cell_type": "code",
   "execution_count": null,
   "metadata": {
    "id": "SPiDpOUsZ-1w"
   },
   "outputs": [],
   "source": [
    "clf = GradientBoostingClassifier(random_state=seed, max_depth=5, min_samples_split = 10, min_samples_leaf=2, learning_rate=0.1, n_estimators=5)\n",
    "scores = cross_val_score(clf, X, Y, scoring='f1_micro', cv=4)"
   ]
  },
  {
   "cell_type": "code",
   "execution_count": null,
   "metadata": {
    "colab": {
     "base_uri": "https://localhost:8080/"
    },
    "id": "cEv6GTe62BqE",
    "outputId": "72014dfc-0fbc-4c1b-c060-5e0850e25fd8"
   },
   "outputs": [
    {
     "name": "stdout",
     "output_type": "stream",
     "text": [
      "Looking in indexes: https://pypi.org/simple, https://us-python.pkg.dev/colab-wheels/public/simple/\n",
      "Requirement already satisfied: lightgbm in /usr/local/lib/python3.7/dist-packages (2.2.3)\n",
      "Requirement already satisfied: numpy in /usr/local/lib/python3.7/dist-packages (from lightgbm) (1.21.6)\n",
      "Requirement already satisfied: scikit-learn in /usr/local/lib/python3.7/dist-packages (from lightgbm) (1.0.2)\n",
      "Requirement already satisfied: scipy in /usr/local/lib/python3.7/dist-packages (from lightgbm) (1.7.3)\n",
      "Requirement already satisfied: threadpoolctl>=2.0.0 in /usr/local/lib/python3.7/dist-packages (from scikit-learn->lightgbm) (3.1.0)\n",
      "Requirement already satisfied: joblib>=0.11 in /usr/local/lib/python3.7/dist-packages (from scikit-learn->lightgbm) (1.2.0)\n"
     ]
    }
   ],
   "source": [
    "!pip install lightgbm"
   ]
  },
  {
   "cell_type": "code",
   "execution_count": 26,
   "metadata": {
    "id": "1VyWwr752UWk"
   },
   "outputs": [],
   "source": [
    "import lightgbm as ltb"
   ]
  },
  {
   "cell_type": "code",
   "execution_count": 27,
   "metadata": {
    "id": "NlQW1BpeSWZM"
   },
   "outputs": [],
   "source": [
    "#lgbm\n",
    "clf = ltb.LGBMClassifier(random_state=seed, max_depth=10, objective='multiclass', min_child_samples=2, learning_rate=0.1, n_estimators=100, n_jobs=-1)\n",
    "scores2 = cross_val_score(clf, X_tf, Y, scoring='f1_micro', cv=4)"
   ]
  },
  {
   "cell_type": "code",
   "execution_count": null,
   "metadata": {
    "id": "IDo8_nBkZ0k3"
   },
   "outputs": [],
   "source": [
    "#MLP\n",
    "clf = MLPClassifier(random_state=seed, hidden_layer_sizes=(512, 256, 128, 64, 32, 16, 4), max_iter=500)\n",
    "scores2 = cross_val_score(clf, X, Y, scoring='f1_micro', cv=4)"
   ]
  },
  {
   "cell_type": "code",
   "execution_count": 21,
   "metadata": {},
   "outputs": [
    {
     "data": {
      "text/html": [
       "<style>#sk-container-id-1 {color: black;background-color: white;}#sk-container-id-1 pre{padding: 0;}#sk-container-id-1 div.sk-toggleable {background-color: white;}#sk-container-id-1 label.sk-toggleable__label {cursor: pointer;display: block;width: 100%;margin-bottom: 0;padding: 0.3em;box-sizing: border-box;text-align: center;}#sk-container-id-1 label.sk-toggleable__label-arrow:before {content: \"▸\";float: left;margin-right: 0.25em;color: #696969;}#sk-container-id-1 label.sk-toggleable__label-arrow:hover:before {color: black;}#sk-container-id-1 div.sk-estimator:hover label.sk-toggleable__label-arrow:before {color: black;}#sk-container-id-1 div.sk-toggleable__content {max-height: 0;max-width: 0;overflow: hidden;text-align: left;background-color: #f0f8ff;}#sk-container-id-1 div.sk-toggleable__content pre {margin: 0.2em;color: black;border-radius: 0.25em;background-color: #f0f8ff;}#sk-container-id-1 input.sk-toggleable__control:checked~div.sk-toggleable__content {max-height: 200px;max-width: 100%;overflow: auto;}#sk-container-id-1 input.sk-toggleable__control:checked~label.sk-toggleable__label-arrow:before {content: \"▾\";}#sk-container-id-1 div.sk-estimator input.sk-toggleable__control:checked~label.sk-toggleable__label {background-color: #d4ebff;}#sk-container-id-1 div.sk-label input.sk-toggleable__control:checked~label.sk-toggleable__label {background-color: #d4ebff;}#sk-container-id-1 input.sk-hidden--visually {border: 0;clip: rect(1px 1px 1px 1px);clip: rect(1px, 1px, 1px, 1px);height: 1px;margin: -1px;overflow: hidden;padding: 0;position: absolute;width: 1px;}#sk-container-id-1 div.sk-estimator {font-family: monospace;background-color: #f0f8ff;border: 1px dotted black;border-radius: 0.25em;box-sizing: border-box;margin-bottom: 0.5em;}#sk-container-id-1 div.sk-estimator:hover {background-color: #d4ebff;}#sk-container-id-1 div.sk-parallel-item::after {content: \"\";width: 100%;border-bottom: 1px solid gray;flex-grow: 1;}#sk-container-id-1 div.sk-label:hover label.sk-toggleable__label {background-color: #d4ebff;}#sk-container-id-1 div.sk-serial::before {content: \"\";position: absolute;border-left: 1px solid gray;box-sizing: border-box;top: 0;bottom: 0;left: 50%;z-index: 0;}#sk-container-id-1 div.sk-serial {display: flex;flex-direction: column;align-items: center;background-color: white;padding-right: 0.2em;padding-left: 0.2em;position: relative;}#sk-container-id-1 div.sk-item {position: relative;z-index: 1;}#sk-container-id-1 div.sk-parallel {display: flex;align-items: stretch;justify-content: center;background-color: white;position: relative;}#sk-container-id-1 div.sk-item::before, #sk-container-id-1 div.sk-parallel-item::before {content: \"\";position: absolute;border-left: 1px solid gray;box-sizing: border-box;top: 0;bottom: 0;left: 50%;z-index: -1;}#sk-container-id-1 div.sk-parallel-item {display: flex;flex-direction: column;z-index: 1;position: relative;background-color: white;}#sk-container-id-1 div.sk-parallel-item:first-child::after {align-self: flex-end;width: 50%;}#sk-container-id-1 div.sk-parallel-item:last-child::after {align-self: flex-start;width: 50%;}#sk-container-id-1 div.sk-parallel-item:only-child::after {width: 0;}#sk-container-id-1 div.sk-dashed-wrapped {border: 1px dashed gray;margin: 0 0.4em 0.5em 0.4em;box-sizing: border-box;padding-bottom: 0.4em;background-color: white;}#sk-container-id-1 div.sk-label label {font-family: monospace;font-weight: bold;display: inline-block;line-height: 1.2em;}#sk-container-id-1 div.sk-label-container {text-align: center;}#sk-container-id-1 div.sk-container {/* jupyter's `normalize.less` sets `[hidden] { display: none; }` but bootstrap.min.css set `[hidden] { display: none !important; }` so we also need the `!important` here to be able to override the default hidden behavior on the sphinx rendered scikit-learn.org. See: https://github.com/scikit-learn/scikit-learn/issues/21755 */display: inline-block !important;position: relative;}#sk-container-id-1 div.sk-text-repr-fallback {display: none;}</style><div id=\"sk-container-id-1\" class=\"sk-top-container\"><div class=\"sk-text-repr-fallback\"><pre>LGBMClassifier(max_depth=10, min_child_samples=2, n_estimators=20,\n",
       "               objective=&#x27;multiclass&#x27;, random_state=0)</pre><b>In a Jupyter environment, please rerun this cell to show the HTML representation or trust the notebook. <br />On GitHub, the HTML representation is unable to render, please try loading this page with nbviewer.org.</b></div><div class=\"sk-container\" hidden><div class=\"sk-item\"><div class=\"sk-estimator sk-toggleable\"><input class=\"sk-toggleable__control sk-hidden--visually\" id=\"sk-estimator-id-1\" type=\"checkbox\" checked><label for=\"sk-estimator-id-1\" class=\"sk-toggleable__label sk-toggleable__label-arrow\">LGBMClassifier</label><div class=\"sk-toggleable__content\"><pre>LGBMClassifier(max_depth=10, min_child_samples=2, n_estimators=20,\n",
       "               objective=&#x27;multiclass&#x27;, random_state=0)</pre></div></div></div></div></div>"
      ],
      "text/plain": [
       "LGBMClassifier(max_depth=10, min_child_samples=2, n_estimators=20,\n",
       "               objective='multiclass', random_state=0)"
      ]
     },
     "execution_count": 21,
     "metadata": {},
     "output_type": "execute_result"
    }
   ],
   "source": [
    "clf.fit(X, Y)"
   ]
  },
  {
   "cell_type": "code",
   "execution_count": null,
   "metadata": {},
   "outputs": [],
   "source": []
  },
  {
   "cell_type": "code",
   "execution_count": null,
   "metadata": {},
   "outputs": [],
   "source": []
  },
  {
   "cell_type": "code",
   "execution_count": 39,
   "metadata": {
    "colab": {
     "base_uri": "https://localhost:8080/"
    },
    "id": "N3Pz0G2RRQFF",
    "outputId": "6644a366-fc2e-4db7-b148-6d2a75dba0cf"
   },
   "outputs": [
    {
     "data": {
      "text/plain": [
       "(array([0.63761905, 0.61857143, 0.61333333, 0.59809524]), 0.6169047619047618)"
      ]
     },
     "execution_count": 39,
     "metadata": {},
     "output_type": "execute_result"
    }
   ],
   "source": [
    "scores, np.mean(scores)"
   ]
  },
  {
   "cell_type": "code",
   "execution_count": 28,
   "metadata": {
    "colab": {
     "base_uri": "https://localhost:8080/"
    },
    "id": "alNRm7VFBGkX",
    "outputId": "697ef38e-b49a-4501-934e-5b57692541c1"
   },
   "outputs": [
    {
     "data": {
      "text/plain": [
       "(array([0.81333333, 0.79857143, 0.81142857, 0.79047619]), 0.8034523809523809)"
      ]
     },
     "execution_count": 28,
     "metadata": {},
     "output_type": "execute_result"
    }
   ],
   "source": [
    "scores2, np.mean(scores2)"
   ]
  },
  {
   "cell_type": "code",
   "execution_count": null,
   "metadata": {
    "colab": {
     "base_uri": "https://localhost:8080/"
    },
    "id": "PRf7UYJG7iTR",
    "outputId": "e6d06972-e59b-4583-d305-9743f53c2df4"
   },
   "outputs": [
    {
     "name": "stderr",
     "output_type": "stream",
     "text": [
      "[Parallel(n_jobs=-1)]: Using backend LokyBackend with 2 concurrent workers.\n",
      "[Parallel(n_jobs=-1)]: Done   1 out of   1 | elapsed:  9.0min finished\n"
     ]
    },
    {
     "data": {
      "text/plain": [
       "LogisticRegression(C=0.01, max_iter=1000, n_jobs=-1, random_state=0,\n",
       "                   verbose=True)"
      ]
     },
     "execution_count": 36,
     "metadata": {},
     "output_type": "execute_result"
    }
   ],
   "source": [
    "regl.fit(X, Y)"
   ]
  }
 ],
 "metadata": {
  "colab": {
   "provenance": []
  },
  "kernelspec": {
   "display_name": "Python 3 (ipykernel)",
   "language": "python",
   "name": "python3"
  },
  "language_info": {
   "codemirror_mode": {
    "name": "ipython",
    "version": 3
   },
   "file_extension": ".py",
   "mimetype": "text/x-python",
   "name": "python",
   "nbconvert_exporter": "python",
   "pygments_lexer": "ipython3",
   "version": "3.10.6"
  }
 },
 "nbformat": 4,
 "nbformat_minor": 1
}
